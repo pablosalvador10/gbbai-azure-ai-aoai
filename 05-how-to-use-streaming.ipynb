{
 "cells": [
  {
   "cell_type": "code",
   "execution_count": 2,
   "metadata": {},
   "outputs": [
    {
     "name": "stdout",
     "output_type": "stream",
     "text": [
      "Directory changed to C:\\Users\\pablosal\\Desktop\\gbbai-azure-aoai-faq\n"
     ]
    }
   ],
   "source": [
    "import os\n",
    "\n",
    "# Define the target directory\n",
    "target_directory = (\n",
    "    r\"C:\\Users\\pablosal\\Desktop\\gbbai-azure-aoai-faq\"  # change your directory here\n",
    ")\n",
    "\n",
    "# Check if the directory exists\n",
    "if os.path.exists(target_directory):\n",
    "    # Change the current working directory\n",
    "    os.chdir(target_directory)\n",
    "    print(f\"Directory changed to {os.getcwd()}\")\n",
    "else:\n",
    "    print(f\"Directory {target_directory} does not exist.\")"
   ]
  },
  {
   "cell_type": "code",
   "execution_count": 3,
   "metadata": {},
   "outputs": [],
   "source": [
    "# Import the libraries\n",
    "from dotenv import load_dotenv\n",
    "from src.aoai.azure_openai import AzureOpenAIManager\n",
    "from typing import Dict, Optional\n",
    "from requests import Response\n",
    "\n",
    "from utils.ml_logging import get_logger\n",
    "\n",
    "# Load environment variables from .env file\n",
    "load_dotenv()\n",
    "# Set up logger\n",
    "logger = get_logger()\n",
    "\n",
    "# Create an instance of the client. You can find it in src/aoai/azure_openai.py.\n",
    "# It is essentially a wrapper using dependency injection to automate the initialization\n",
    "# and most used API calls.\n",
    "azure_openai_client = AzureOpenAIManager()"
   ]
  },
  {
   "cell_type": "code",
   "execution_count": null,
   "metadata": {},
   "outputs": [],
   "source": [
    "conversation_history = [\n",
    "    {\"role\": \"system\", \"content\": \"You are an AI assistant that helps people find information.\"},\n",
    "    {\"role\": \"user\", \"content\": \"Please compare Kentucky vs Madrid\"},\n",
    "    {\"role\": \"assistant\", \"content\": \"Comparing Kentucky (a state in the United States) and Madrid\"}\n",
    "]"
   ]
  },
  {
   "cell_type": "code",
   "execution_count": 4,
   "metadata": {},
   "outputs": [
    {
     "name": "stderr",
     "output_type": "stream",
     "text": [
      "2024-04-22 10:43:25,290 - micro - MainProcess - INFO     Sending request to OpenAI with query: Please compare Kentucky vs Madrid (azure_openai.py:generate_chat_response:246)\n",
      "2024-04-22 10:44:52,972 - micro - MainProcess - INFO     Received response from OpenAI: Certainly! When comparing Kentucky to Madrid, it is essential to note that Kentucky is a state in the United States, while Madrid is the capital city of Spain. Here are some key points of comparison:\n",
      "\n",
      "**Geography and Climate:**\n",
      "- Kentucky is located in the eastern south-central region of the U.S. It has a diverse environment with mountains, forests, and fertile plains. The state experiences a humid subtropical climate with four distinct seasons, including cold winters and hot, humid summers.\n",
      "- Madrid is situated in the center of Spain, on the Spanish Plateau. Its climate is characterized by hot summers and cold winters due to its high altitude, fitting the criteria of a continental Mediterranean climate.\n",
      "\n",
      "**Size and Population:**\n",
      "- Kentucky covers an area of about 40,408 square miles with a population of around 4.5 million people as of the early 2020s.\n",
      "- Madrid, as a city, has a much smaller area of about 233 square miles, but with a population of over 3 million in the city itself and around 6.7 million in the larger metropolitan area.\n",
      "\n",
      "**Economy:**\n",
      "- Kentucky’s economy is diverse, including industries such as auto manufacturing, energy fuel production, and medical facilities. It is also known for agriculture, particularly horse breeding, tobacco, and whiskey production.\n",
      "- Madrid is one of the major financial centers in Europe and plays a crucial role in both the Spanish and European economies. Key industries include services, technology, banking, and tourism.\n",
      "\n",
      "**Culture and Lifestyle:**\n",
      "- Kentucky is known for its Southern culture, which includes the Kentucky Derby, bluegrass music, and bourbon distilleries. It has a rich history in folk arts and crafts.\n",
      "- Madrid is renowned for its rich cultural heritage, with world-class museums like the Prado and Reina Sofía, a vibrant nightlife, and traditional Spanish cuisine. It is also famous for its historic architecture and cultural events.\n",
      "\n",
      "**Transportation:**\n",
      "- In Kentucky, transportation is primarily dependent on roadways and airports, with the largest airport being Louisville International Airport.\n",
      "- Madrid has a highly efficient public transportation system that includes the Madrid Metro, one of the most extensive subway systems in the world, buses, and a network of commuter trains (Cercanías Madrid). It's also served by the Madrid-Barajas Adolfo Suárez Airport, one of the largest airports in Europe.\n",
      "\n",
      "**Government and Politics:**\n",
      "- Kentucky is a U.S. state with its own government, consisting of the executive branch led by the governor, a bicameral legislature, and a separate judicial branch. It contributes two senators and six representatives to the U.S. Congress.\n",
      "- Madrid is governed as a municipality by a mayor and a city council and is also the seat of the national government of Spain. National politics have a significant influence on the city.\n",
      "\n",
      "Therefore, when comparing Kentucky and Madrid, one must consider the differences in scale (a state versus a city), culture, economy, and lifestyle, among other factors. (azure_openai.py:generate_chat_response:259)\n"
     ]
    },
    {
     "name": "stdout",
     "output_type": "stream",
     "text": [
      "Response time: 87.68312931060791 seconds\n"
     ]
    }
   ],
   "source": [
    "import time \n",
    "\n",
    "start_time = time.time()\n",
    "\n",
    "response_1 = azure_openai_client.generate_chat_response(conversation_history=[], \n",
    "                                                        query=\"Please compare Kentucky vs Madrid\", \n",
    "                                                        max_tokens=1000)\n",
    "\n",
    "end_time = time.time()\n",
    "\n",
    "response_time = end_time - start_time\n",
    "\n",
    "print(f\"Response time: {response_time} seconds\")"
   ]
  },
  {
   "cell_type": "code",
   "execution_count": 5,
   "metadata": {},
   "outputs": [],
   "source": [
    "import os\n",
    "import time\n",
    "from openai import AzureOpenAI\n",
    "from utils.ml_logging import get_logger\n",
    "\n",
    "# Set up logger\n",
    "logger = get_logger()\n",
    "\n",
    "# Initialize the AzureOpenAI client with endpoint and API key\n",
    "client = AzureOpenAI(\n",
    "    azure_endpoint=\"https://ml-workspace-dev-canadaeast-001-aoai.openai.azure.com/\", \n",
    "    api_key=os.getenv(\"AZURE_OPENAI_KEY\"),\n",
    "    api_version=\"2024-02-15-preview\"\n",
    ")\n",
    "\n",
    "# Messages for the chat\n",
    "message_text = [\n",
    "    {\"role\": \"system\", \"content\": \"You are an AI assistant that helps people find information.\"},\n",
    "    {\"role\": \"user\", \"content\": \"Please compare Kentucky vs Madrid\"},\n",
    "    {\"role\": \"assistant\", \"content\": \"Comparing Kentucky (a state in the United States) and Madrid\"}\n",
    "]\n",
    "\n",
    "def stream_response():\n",
    "    start_time = time.time()\n",
    "    try: \n",
    "        response = client.chat.completions.create(\n",
    "            model=\"foundational-canadaeast-gpt4-32k\",\n",
    "            messages=message_text,\n",
    "            temperature=0.7,\n",
    "            max_tokens=1000,\n",
    "            top_p=0.95,\n",
    "            frequency_penalty=0,\n",
    "            presence_penalty=0,\n",
    "            stop=None,\n",
    "            stream=True\n",
    "        )\n",
    "\n",
    "        for event in response:\n",
    "                if event.choices:\n",
    "                    event_text = event.choices[0].delta\n",
    "                    if event_text:\n",
    "                        print(event_text.content, end='', flush=True)\n",
    "                        time.sleep(0.01)  # Maintain minimal sleep to reduce latency\n",
    "\n",
    "    except Exception as e:\n",
    "        logger.error(f\"An error occurred during the streaming process: {str(e)}\")\n",
    "    finally:\n",
    "        # Calculate total time elapsed\n",
    "        total_time = time.time() - start_time\n",
    "        logger.info(f\"Total time elapsed: {total_time:.2f} seconds\")\n"
   ]
  },
  {
   "cell_type": "code",
   "execution_count": 6,
   "metadata": {},
   "outputs": [
    {
     "name": "stdout",
     "output_type": "stream",
     "text": [
      "(a city in Spain) requires looking at different aspects such as geography, culture, weather, population, etc.\n",
      "\n",
      "1. Geography: \n",
      "Kentucky is located in the South-Eastern region of the United States. It's characterized by diverse environments and abundant resources, including the world's longest cave system, Mammoth Cave National Park, as well as the greatest length of navigable waterways and streams in the contiguous United States.\n",
      "Madrid, on the other hand, is the capital city of Spain, located right in the center of the country. It is known for its great cultural and artistic heritage, and is a cosmopolitan city combining modern infrastructure with an extensive cultural and artistic heritage.\n",
      "\n",
      "2. Culture: \n",
      "Kentucky is known for its distinct cultural heritage like bluegrass music, bourbon, and horse racing. The Kentucky Derby, held at Churchill Downs in Louisville, is a world-renowned horse racing event attended by people from around the globe.\n",
      "Madrid is rich in history, art, and culture. It's home to some world-class museums like The Prado Museum and the Reina Sofia Museum. Spanish cuisine, flamenco music, and dance also form an integral part of Madrid's culture.\n",
      "\n",
      "3. Climate: \n",
      "Kentucky has a temperate climate with humid, hot summers and moderately cold winters.\n",
      "Madrid has a hot-summer Mediterranean climate, which is characterized by hot summers due to its high altitude and inland location, and cooler winters with occasional snowfalls.\n",
      "\n",
      "4. Population: \n",
      "As of 2021, Kentucky has a population of around 4.5 million people.\n",
      "Madrid, in contrast, has a population of about 6.7 million in the metropolitan area.\n",
      "\n",
      "5. Economy:\n",
      "Kentucky's economy includes sectors like agriculture, manufacturing, and mining.\n",
      "Madrid, as the capital city of Spain, is the economic, financial, and administrative center of the country, with sectors like services, technology, and tourism driving the economy.\n",
      "\n",
      "Remember that this comparison is quite general. The living experience can vary widely within different parts of each place.None"
     ]
    },
    {
     "name": "stderr",
     "output_type": "stream",
     "text": [
      "2024-04-22 10:46:25,786 - micro - MainProcess - INFO     Total time elapsed: 58.15 seconds (1962718753.py:stream_response:50)\n"
     ]
    }
   ],
   "source": [
    "stream_response()"
   ]
  }
 ],
 "metadata": {
  "kernelspec": {
   "display_name": "aoai-faq",
   "language": "python",
   "name": "python3"
  },
  "language_info": {
   "codemirror_mode": {
    "name": "ipython",
    "version": 3
   },
   "file_extension": ".py",
   "mimetype": "text/x-python",
   "name": "python",
   "nbconvert_exporter": "python",
   "pygments_lexer": "ipython3",
   "version": "3.9.18"
  }
 },
 "nbformat": 4,
 "nbformat_minor": 2
}
