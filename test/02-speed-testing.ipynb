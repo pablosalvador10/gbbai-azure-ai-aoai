{
 "cells": [
  {
   "cell_type": "code",
   "execution_count": 1,
   "metadata": {},
   "outputs": [
    {
     "name": "stdout",
     "output_type": "stream",
     "text": [
      "Directory changed to C:\\Users\\pablosal\\Desktop\\azure-openai-benchmark-pablosal\n"
     ]
    }
   ],
   "source": [
    "import os\n",
    "\n",
    "# Define the target directory (change yours)\n",
    "target_directory = r\"C:\\Users\\pablosal\\Desktop\\azure-openai-benchmark-pablosal\"\n",
    "\n",
    "# Check if the directory exists\n",
    "if os.path.exists(target_directory):\n",
    "    # Change the current working directory\n",
    "    os.chdir(target_directory)\n",
    "    print(f\"Directory changed to {os.getcwd()}\")\n",
    "else:\n",
    "    print(f\"Directory {target_directory} does not exist.\")"
   ]
  },
  {
   "cell_type": "code",
   "execution_count": 6,
   "metadata": {},
   "outputs": [],
   "source": [
    "from aoai.azureopenai import AzureOpenAIManager\n",
    "from dotenv import load_dotenv\n",
    "\n",
    "# Load environment variables from .env file\n",
    "load_dotenv()\n",
    "\n",
    "# Now you can access the environment variables using os.getenv\n",
    "OPENAI_API_KEY = os.getenv(\"OPENAI_API_KEY\")\n",
    "AZURE_OPENAI_ENDPOINT = os.getenv(\"AZURE_OPENAI_ENDPOINT\")\n",
    "DEPLOYMENT_ID_PTU = os.getenv(\"AZURE_AOAI_DEPLOYMENT_NAME_PTU\")\n",
    "DEPLOYMENT_ID_PAYGO = os.getenv(\"AZURE_AOAI_DEPLOYMENT_NAME_PAYG\")\n",
    "DEPLOYMENT_VERSION = os.getenv(\"AZURE_AOAI_API_VERSION\")\n",
    "\n",
    "azure_openai_client_gpt4_ptu = AzureOpenAIManager(api_key=OPENAI_API_KEY,\n",
    "                                                  azure_endpoint=AZURE_OPENAI_ENDPOINT,\n",
    "                                                  chat_model_name=DEPLOYMENT_ID_PTU,\n",
    "                                                  api_version=DEPLOYMENT_VERSION)\n",
    "azure_openai_client_gpt4_paygo = AzureOpenAIManager(api_key=OPENAI_API_KEY,\n",
    "                                                  azure_endpoint=AZURE_OPENAI_ENDPOINT,\n",
    "                                                  chat_model_name=DEPLOYMENT_ID_PAYGO,\n",
    "                                                  api_version=DEPLOYMENT_VERSION)"
   ]
  },
  {
   "cell_type": "code",
   "execution_count": 10,
   "metadata": {},
   "outputs": [
    {
     "name": "stderr",
     "output_type": "stream",
     "text": [
      "2024-03-10 00:52:32,072 - micro - MainProcess - INFO     Sending request to OpenAI with query: What is the meaning of life? (azureopenai.py:generate_chat_response:194)\n",
      "2024-03-10 00:52:36,356 - micro - MainProcess - INFO     Received response from OpenAI: The question of the meaning of life has fascinated humans for centuries, spanning philosophical, religious, and existential thought. Its interpretation varies widely among different cultures, belief systems, and individuals. In many religious contexts, the meaning of life is often linked to the fulfillment of a divine purpose or adherence to spiritual laws. Philosophically, it has been explored from various angles, including existentialism, which suggests that meaning is not inherent but rather created through individual choice and action. In a general sense, many people find meaning through connections with others, achievements, personal growth, the pursuit of happiness, and the quest to understand one's place in the universe. Ultimately, the meaning of life is a deeply personal question that each person may answer differently based on their experiences, (azureopenai.py:generate_chat_response:207)\n"
     ]
    },
    {
     "data": {
      "text/plain": [
       "\"The question of the meaning of life has fascinated humans for centuries, spanning philosophical, religious, and existential thought. Its interpretation varies widely among different cultures, belief systems, and individuals. In many religious contexts, the meaning of life is often linked to the fulfillment of a divine purpose or adherence to spiritual laws. Philosophically, it has been explored from various angles, including existentialism, which suggests that meaning is not inherent but rather created through individual choice and action. In a general sense, many people find meaning through connections with others, achievements, personal growth, the pursuit of happiness, and the quest to understand one's place in the universe. Ultimately, the meaning of life is a deeply personal question that each person may answer differently based on their experiences,\""
      ]
     },
     "execution_count": 10,
     "metadata": {},
     "output_type": "execute_result"
    }
   ],
   "source": [
    "azure_openai_client_gpt4_paygo.generate_chat_response(conversation_history=[],query=\"What is the meaning of life?\")"
   ]
  },
  {
   "cell_type": "code",
   "execution_count": 17,
   "metadata": {},
   "outputs": [],
   "source": [
    "body = {\n",
    "    \"max_tokens\": 350,\n",
    "    \"temperature\": 1,\n",
    "    \"top_p\": 1,\n",
    "    \"user\": \"\",\n",
    "    \"n\": 1,\n",
    "    \"presence_penalty\": 0,\n",
    "    \"frequency_penalty\": 0,\n",
    "    \"messages\": [\n",
    "        {\"role\": \"system\", \"content\": \"You are a helpful assistant.\"},\n",
    "        {\"role\": \"user\", \"content\": \"Does Azure OpenAI support customer managed keys?\"},\n",
    "        {\n",
    "            \"role\": \"assistant\",\n",
    "            \"content\": \"Yes, customer managed keys are supported by Azure OpenAI.\",\n",
    "        },\n",
    "        {\"role\": \"user\", \"content\": \"Do other Azure AI services support this too?\"},\n",
    "        {\n",
    "            \"role\": \"assistant\",\n",
    "            \"content\": \"Yes, other Azure AI services also support customer managed keys.\",\n",
    "        },\n",
    "        {\"role\": \"user\", \"content\": \"Can you tell me more about these services?\"},\n",
    "        {\n",
    "            \"role\": \"assistant\",\n",
    "            \"content\": \"Sure, Azure AI services include Azure Cognitive Services, Azure Machine Learning, and more.\",\n",
    "        },\n",
    "        {\"role\": \"user\", \"content\": \"What is Azure Cognitive Services?\"},\n",
    "        {\n",
    "            \"role\": \"assistant\",\n",
    "            \"content\": \"Azure Cognitive Services is a collection of APIs and services for building intelligent applications.\",\n",
    "        },\n",
    "        {\"role\": \"user\", \"content\": \"What is Azure Machine Learning?\"},\n",
    "        {\n",
    "            \"role\": \"assistant\",\n",
    "            \"content\": \"Azure Machine Learning is a cloud-based service for building, training, and deploying machine learning models.\",\n",
    "        },\n",
    "        {\"role\": \"user\", \"content\": \"Thank you for the information.\"},\n",
    "        {\n",
    "            \"role\": \"assistant\",\n",
    "            \"content\": \"You're welcome! If you have any other questions, feel free to ask.\",\n",
    "        },\n",
    "        {\"role\": \"user\", \"content\": \"What other services does Azure offer?\"},\n",
    "        {\n",
    "            \"role\": \"assistant\",\n",
    "            \"content\": \"Azure offers a wide range of services including computing, analytics, storage, and networking.\",\n",
    "        },\n",
    "        {\n",
    "            \"role\": \"user\",\n",
    "            \"content\": \"Can you tell me more about Azure's computing services?\",\n",
    "        },\n",
    "        {\n",
    "            \"role\": \"assistant\",\n",
    "            \"content\": \"Azure's computing services include virtual machines, container services, and serverless computing.\",\n",
    "        },\n",
    "        {\"role\": \"user\", \"content\": \"What is serverless computing?\"},\n",
    "        {\n",
    "            \"role\": \"assistant\",\n",
    "            \"content\": \"Serverless computing is a cloud computing model where the cloud provider automatically manages the provisioning and scaling of servers.\",\n",
    "        },\n",
    "        {\n",
    "            \"role\": \"user\",\n",
    "            \"content\": \"That's interesting. Thank you for the information.\",\n",
    "        },\n",
    "        {\n",
    "            \"role\": \"assistant\",\n",
    "            \"content\": \"You're welcome! If you have any other questions, feel free to ask.\",\n",
    "        },\n",
    "        {\n",
    "            \"role\": \"user\",\n",
    "            \"content\": \"Please describe the entire conversation in bullet points for each iteration.\",\n",
    "        },\n",
    "    ],\n",
    "}"
   ]
  },
  {
   "cell_type": "code",
   "execution_count": 18,
   "metadata": {},
   "outputs": [
    {
     "name": "stderr",
     "output_type": "stream",
     "text": [
      "2024-03-10 00:57:22,396 - micro - MainProcess - INFO     Sending request to https://gbb-ea-openai-southcentralus-01.openai.azure.com/openai/deployments/gpt-4-0125-paygo/chat/completions?api-version=2024-02-15-preview with headers {'Content-Type': 'application/json', 'api-key': 'c7c7a27f1fcf4947b04ac6aaecfdd1d8', 'x-ms-useragent': 'aoai-benchmark'} and body {'max_tokens': 350, 'temperature': 1, 'top_p': 1, 'user': '', 'n': 1, 'presence_penalty': 0, 'frequency_penalty': 0, 'messages': [{'role': 'system', 'content': 'You are a helpful assistant.'}, {'role': 'user', 'content': 'Does Azure OpenAI support customer managed keys?'}, {'role': 'assistant', 'content': 'Yes, customer managed keys are supported by Azure OpenAI.'}, {'role': 'user', 'content': 'Do other Azure AI services support this too?'}, {'role': 'assistant', 'content': 'Yes, other Azure AI services also support customer managed keys.'}, {'role': 'user', 'content': 'Can you tell me more about these services?'}, {'role': 'assistant', 'content': 'Sure, Azure AI services include Azure Cognitive Services, Azure Machine Learning, and more.'}, {'role': 'user', 'content': 'What is Azure Cognitive Services?'}, {'role': 'assistant', 'content': 'Azure Cognitive Services is a collection of APIs and services for building intelligent applications.'}, {'role': 'user', 'content': 'What is Azure Machine Learning?'}, {'role': 'assistant', 'content': 'Azure Machine Learning is a cloud-based service for building, training, and deploying machine learning models.'}, {'role': 'user', 'content': 'Thank you for the information.'}, {'role': 'assistant', 'content': \"You're welcome! If you have any other questions, feel free to ask.\"}, {'role': 'user', 'content': 'What other services does Azure offer?'}, {'role': 'assistant', 'content': 'Azure offers a wide range of services including computing, analytics, storage, and networking.'}, {'role': 'user', 'content': \"Can you tell me more about Azure's computing services?\"}, {'role': 'assistant', 'content': \"Azure's computing services include virtual machines, container services, and serverless computing.\"}, {'role': 'user', 'content': 'What is serverless computing?'}, {'role': 'assistant', 'content': 'Serverless computing is a cloud computing model where the cloud provider automatically manages the provisioning and scaling of servers.'}, {'role': 'user', 'content': \"That's interesting. Thank you for the information.\"}, {'role': 'assistant', 'content': \"You're welcome! If you have any other questions, feel free to ask.\"}, {'role': 'user', 'content': 'Please describe the entire conversation in bullet points for each iteration.'}]} (azureopenai.py:call_azure_openai_chat_completions_api:287)\n"
     ]
    },
    {
     "name": "stdout",
     "output_type": "stream",
     "text": [
      "Status Code: 200\n",
      "Response: {'id': 'chatcmpl-917PXHKfmuW0Jt4s7S8O0PNmM7ABg', 'object': 'chat.completion', 'created': 1710053843, 'model': 'gpt-4', 'choices': [{'index': 0, 'message': {'role': 'assistant', 'content': \"- User inquired if Azure OpenAI supports customer managed keys.\\n  - Assistant confirmed that customer managed keys are supported by Azure OpenAI.\\n- User asked if other Azure AI services support customer managed keys too.\\n  - Assistant affirmed that other Azure AI services also support customer managed keys.\\n- User requested more information on these services.\\n  - Assistant briefly described Azure AI services, mentioning Azure Cognitive Services and Azure Machine Learning.\\n- User inquired about Azure Cognitive Services.\\n  - Assistant explained that Azure Cognitive Services is a collection of APIs and services for building intelligent applications.\\n- User asked about Azure Machine Learning.\\n  - Assistant described Azure Machine Learning as a cloud-based service for building, training, and deploying machine learning models.\\n- User thanked for the information.\\n  - Assistant offered further assistance.\\n- User inquired about other services Azure offers.\\n  - Assistant outlined that Azure provides a wide range of services including computing, analytics, storage, and networking.\\n- User requested more details on Azure's computing services.\\n  - Assistant detailed that Azure's computing services include virtual machines, container services, and serverless computing.\\n- User sought to understand serverless computing.\\n  - Assistant explained serverless computing as a cloud model where the provider manages servers, allowing developers to focus on building applications without managing server infrastructure.\\n- User expressed appreciation for the information.\\n  - Assistant offered further help and encouraged any more questions.\"}, 'logprobs': None, 'finish_reason': 'stop'}], 'usage': {'prompt_tokens': 349, 'completion_tokens': 280, 'total_tokens': 629}, 'system_fingerprint': 'fp_8abb16fa4e'}\n",
      "Rate Limit Info: {'remaining-requests': '79', 'remaining-tokens': '78892', 'prompt-tokens': 349, 'completion_tokens': 280, 'total_tokens': 629, 'utilization': None, 'retry-after-ms': None}\n"
     ]
    }
   ],
   "source": [
    "status_code, response, rate_limit_info = azure_openai_client_gpt4_paygo.call_azure_openai_chat_completions_api(\n",
    "    body=body,\n",
    "    api_version=\"2024-02-15-preview\",\n",
    ")\n",
    "\n",
    "# Print the status code, response, and rate limit info\n",
    "print(\"Status Code:\", status_code)\n",
    "print(\"Response:\", response)\n",
    "print(\"Rate Limit Info:\", rate_limit_info)"
   ]
  },
  {
   "cell_type": "code",
   "execution_count": 19,
   "metadata": {},
   "outputs": [
    {
     "name": "stderr",
     "output_type": "stream",
     "text": [
      "2024-03-10 00:58:02,177 - micro - MainProcess - INFO     Sending request to https://gbb-ea-openai-southcentralus-01.openai.azure.com/openai/deployments/gpt-4-0125-ptu/chat/completions?api-version=2024-02-15-preview with headers {'Content-Type': 'application/json', 'api-key': 'c7c7a27f1fcf4947b04ac6aaecfdd1d8', 'x-ms-useragent': 'aoai-benchmark'} and body {'max_tokens': 350, 'temperature': 1, 'top_p': 1, 'user': '', 'n': 1, 'presence_penalty': 0, 'frequency_penalty': 0, 'messages': [{'role': 'system', 'content': 'You are a helpful assistant.'}, {'role': 'user', 'content': 'Does Azure OpenAI support customer managed keys?'}, {'role': 'assistant', 'content': 'Yes, customer managed keys are supported by Azure OpenAI.'}, {'role': 'user', 'content': 'Do other Azure AI services support this too?'}, {'role': 'assistant', 'content': 'Yes, other Azure AI services also support customer managed keys.'}, {'role': 'user', 'content': 'Can you tell me more about these services?'}, {'role': 'assistant', 'content': 'Sure, Azure AI services include Azure Cognitive Services, Azure Machine Learning, and more.'}, {'role': 'user', 'content': 'What is Azure Cognitive Services?'}, {'role': 'assistant', 'content': 'Azure Cognitive Services is a collection of APIs and services for building intelligent applications.'}, {'role': 'user', 'content': 'What is Azure Machine Learning?'}, {'role': 'assistant', 'content': 'Azure Machine Learning is a cloud-based service for building, training, and deploying machine learning models.'}, {'role': 'user', 'content': 'Thank you for the information.'}, {'role': 'assistant', 'content': \"You're welcome! If you have any other questions, feel free to ask.\"}, {'role': 'user', 'content': 'What other services does Azure offer?'}, {'role': 'assistant', 'content': 'Azure offers a wide range of services including computing, analytics, storage, and networking.'}, {'role': 'user', 'content': \"Can you tell me more about Azure's computing services?\"}, {'role': 'assistant', 'content': \"Azure's computing services include virtual machines, container services, and serverless computing.\"}, {'role': 'user', 'content': 'What is serverless computing?'}, {'role': 'assistant', 'content': 'Serverless computing is a cloud computing model where the cloud provider automatically manages the provisioning and scaling of servers.'}, {'role': 'user', 'content': \"That's interesting. Thank you for the information.\"}, {'role': 'assistant', 'content': \"You're welcome! If you have any other questions, feel free to ask.\"}, {'role': 'user', 'content': 'Please describe the entire conversation in bullet points for each iteration.'}]} (azureopenai.py:call_azure_openai_chat_completions_api:287)\n"
     ]
    },
    {
     "name": "stdout",
     "output_type": "stream",
     "text": [
      "Status Code: 200\n",
      "Response: {'id': 'chatcmpl-917QByPfOYt1fz676YfUZVRvVEgau', 'object': 'chat.completion', 'created': 1710053883, 'model': 'gpt-4', 'choices': [{'index': 0, 'message': {'role': 'assistant', 'content': \"- **User**: Asked if Azure OpenAI supports customer managed keys.\\n- **Assistant**: Confirmed that customer managed keys are supported by Azure OpenAI.\\n- **User**: Inquired if other Azure AI services also support customer managed keys.\\n- **Assistant**: Affirmed that other Azure AI services support customer managed keys.\\n- **User**: Requested more information about these services.\\n- **Assistant**: Briefly mentioned Azure Cognitive Services and Azure Machine Learning as part of Azure AI services.\\n- **User**: Asked for more details on Azure Cognitive Services.\\n- **Assistant**: Explained Azure Cognitive Services as a collection of APIs and services for building intelligent applications.\\n- **User**: Inquired about Azure Machine Learning.\\n- **Assistant**: Defined Azure Machine Learning as a cloud-based service for building, training, and deploying machine learning models.\\n- **User**: Thanked the assistant for the information.\\n- **Assistant**: Offered further help.\\n- **User**: Asked about other services Azure offers.\\n- **Assistant**: Mentioned Azure provides a broad range of services including computing, analytics, storage, and networking.\\n- **User**: Requested more details on Azure's computing services.\\n- **Assistant**: Listed Azure's computing services, including virtual machines, container services, and serverless computing.\\n- **User**: Asked what serverless computing is.\\n- **Assistant**: Described serverless computing as a cloud computing model that automates server management and provisioning.\\n- **User**: Expressed appreciation for the information.\\n- **Assistant**: Offered further assistance.\"}, 'logprobs': None, 'finish_reason': 'stop'}], 'usage': {'prompt_tokens': 349, 'completion_tokens': 310, 'total_tokens': 659}, 'system_fingerprint': 'fp_8abb16fa4e'}\n",
      "Rate Limit Info: {'remaining-requests': '3999', 'remaining-tokens': None, 'prompt-tokens': 349, 'completion_tokens': 310, 'total_tokens': 659, 'utilization': '0.00%', 'retry-after-ms': None}\n"
     ]
    }
   ],
   "source": [
    "status_code, response, rate_limit_info = azure_openai_client_gpt4_ptu.call_azure_openai_chat_completions_api(\n",
    "    body=body,\n",
    "    api_version=\"2024-02-15-preview\",\n",
    ")\n",
    "\n",
    "# Print the status code, response, and rate limit info\n",
    "print(\"Status Code:\", status_code)\n",
    "print(\"Response:\", response)\n",
    "print(\"Rate Limit Info:\", rate_limit_info)"
   ]
  }
 ],
 "metadata": {
  "kernelspec": {
   "display_name": "ptu-benchmarking",
   "language": "python",
   "name": "python3"
  },
  "language_info": {
   "codemirror_mode": {
    "name": "ipython",
    "version": 3
   },
   "file_extension": ".py",
   "mimetype": "text/x-python",
   "name": "python",
   "nbconvert_exporter": "python",
   "pygments_lexer": "ipython3",
   "version": "3.9.18"
  }
 },
 "nbformat": 4,
 "nbformat_minor": 2
}
