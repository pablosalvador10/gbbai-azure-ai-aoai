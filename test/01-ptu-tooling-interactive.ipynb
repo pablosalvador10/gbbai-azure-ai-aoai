{
 "cells": [
  {
   "cell_type": "code",
   "execution_count": 7,
   "metadata": {},
   "outputs": [
    {
     "name": "stdout",
     "output_type": "stream",
     "text": [
      "Directory changed to C:\\Users\\pablosal\\Desktop\\azure-openai-benchmark-pablosal\n"
     ]
    }
   ],
   "source": [
    "import os\n",
    "\n",
    "# Define the target directory (change yours)\n",
    "target_directory = r\"C:\\Users\\pablosal\\Desktop\\azure-openai-benchmark-pablosal\"\n",
    "\n",
    "# Check if the directory exists\n",
    "if os.path.exists(target_directory):\n",
    "    # Change the current working directory\n",
    "    os.chdir(target_directory)\n",
    "    print(f\"Directory changed to {os.getcwd()}\")\n",
    "else:\n",
    "    print(f\"Directory {target_directory} does not exist.\")"
   ]
  },
  {
   "cell_type": "code",
   "execution_count": 8,
   "metadata": {},
   "outputs": [],
   "source": [
    "from dotenv import load_dotenv\n",
    "\n",
    "# Load environment variables from .env file\n",
    "load_dotenv()\n",
    "\n",
    "# Now you can access the environment variables using os.getenv\n",
    "OPENAI_API_KEY = os.getenv(\"OPENAI_API_KEY\")\n",
    "AZURE_OPENAI_ENDPOINT = os.getenv(\"AZURE_OPENAI_ENDPOINT\")\n",
    "DEPLOYMENT_ID = os.getenv(\"AZURE_AOAI_DEPLOYMENT_NAME\")\n",
    "DEPLOYMENT_VERSION = os.getenv(\"AZURE_AOAI_API_VERSION\")"
   ]
  },
  {
   "cell_type": "code",
   "execution_count": 9,
   "metadata": {},
   "outputs": [],
   "source": [
    "import logging\n",
    "\n",
    "# Create a custom logger\n",
    "logger = logging.getLogger(__name__)\n",
    "\n",
    "# Set the level of this logger. This level acts as a threshold. \n",
    "# Any message logged at this level, or higher, will be passed to this logger's handlers.\n",
    "logger.setLevel(logging.DEBUG)\n",
    "\n",
    "# Create handlers\n",
    "c_handler = logging.StreamHandler()\n",
    "c_handler.setLevel(logging.DEBUG)\n",
    "c_format = logging.Formatter('%(name)s - %(levelname)s - %(message)s')\n",
    "c_handler.setFormatter(c_format)\n",
    "logger.addHandler(c_handler)"
   ]
  },
  {
   "cell_type": "markdown",
   "metadata": {},
   "source": [
    "## Execute Sample Runs\n",
    "\n",
    "During a test run, the system periodically outputs statistics every 60 seconds to the standard output (stdout), while logs are directed to the standard error output (stderr). Please note that some metrics may not be immediately visible due to insufficient data.\n",
    "\n",
    "Initiate a load test at a rate of 60 Requests Per Minute (RPM) with an exponential back-off retry strategy. This strategy helps to efficiently handle potential API rate limit issues by gradually increasing the wait time between retries."
   ]
  },
  {
   "cell_type": "code",
   "execution_count": 10,
   "metadata": {},
   "outputs": [],
   "source": [
    "import datetime\n",
    "import subprocess\n",
    "\n",
    "# Prepare the datetime string for the log filename\n",
    "now = datetime.datetime.now()\n",
    "now_str = now.strftime(\"%Y-%m-%d_%H-%M-%S\")\n",
    "model = \"gpt-4-0125-paygo\"\n",
    "region = \"southcentralus\"\n",
    "date_str, time_str = now_str.split('_')\n",
    "log_file_path = f\"logs/test/{model}/{region}/{date_str}/{time_str.replace('_', ' ')}.log\"\n",
    "\n",
    "# Prepare your command without shell redirection\n",
    "command = [\n",
    "    \"python\", \"-m\", \"benchmark.bench\", \"load\",\n",
    "    \"--deployment\", model,\n",
    "    \"--rate\", \"50\",\n",
    "    \"--duration\", \"1500\",\n",
    "    \"--shape\", \"custom\",\n",
    "    \"--context-tokens\", \"1000\",\n",
    "    \"--max-tokens\", \"500\",\n",
    "    AZURE_OPENAI_ENDPOINT\n",
    "]\n",
    "\n",
    "# Ensure the logs directory exists\n",
    "import os\n",
    "os.makedirs(os.path.dirname(log_file_path), exist_ok=True)\n",
    "\n",
    "# Open the log file in write mode\n",
    "with open(log_file_path, 'w') as log_file:\n",
    "    # Execute the command and redirect both stdout and stderr to the log file\n",
    "    process = subprocess.run(command, stdout=log_file, stderr=subprocess.STDOUT, check=True)"
   ]
  },
  {
   "cell_type": "code",
   "execution_count": null,
   "metadata": {},
   "outputs": [],
   "source": [
    "# import datetime\n",
    "# import subprocess\n",
    "\n",
    "# # Prepare the datetime string for the log filename\n",
    "# now = datetime.datetime.now()\n",
    "# now_str = now.strftime(\"%Y-%m-%d_%H-%M-%S\")\n",
    "# log_file_path = f\"logs/test/benchmark_{now_str}.log\"\n",
    "\n",
    "# # Prepare your command without shell redirection\n",
    "# command = [\n",
    "#     \"python\", \"-m\", \"benchmark.bench\", \"load\",\n",
    "#     \"--deployment\", DEPLOYMENT_ID,\n",
    "#     \"--rate\", \"50\",\n",
    "#     \"--shape-profile\", \"custom\",\n",
    "#     \"--duration\", \"60\",\n",
    "#     \"--clients\", \"1\",\n",
    "#     \"--context-tokens\", \"1000\",\n",
    "#     \"--max-tokens\", \"200\",\n",
    "#     \"--completions\", \"200\",\n",
    "#     \"--retry\", \"exponential\",\n",
    "#     AZURE_OPENAI_ENDPOINT\n",
    "# ]\n",
    "\n",
    "# # Ensure the logs directory exists\n",
    "# import os\n",
    "# os.makedirs(os.path.dirname(log_file_path), exist_ok=True)\n",
    "\n",
    "# # Open the log file in write mode\n",
    "# with open(log_file_path, 'w') as log_file:\n",
    "#     # Execute the command and redirect both stdout and stderr to the log file\n",
    "#     process = subprocess.run(command, stdout=log_file, stderr=subprocess.STDOUT, check=True)"
   ]
  },
  {
   "cell_type": "code",
   "execution_count": null,
   "metadata": {},
   "outputs": [],
   "source": [
    "# try:\n",
    "#     process.kill()\n",
    "# except Exception as e:\n",
    "#     print(f\"Error occurred while trying to kill the process: {e}\")"
   ]
  }
 ],
 "metadata": {
  "kernelspec": {
   "display_name": "ptu-benchmarking",
   "language": "python",
   "name": "python3"
  },
  "language_info": {
   "codemirror_mode": {
    "name": "ipython",
    "version": 3
   },
   "file_extension": ".py",
   "mimetype": "text/x-python",
   "name": "python",
   "nbconvert_exporter": "python",
   "pygments_lexer": "ipython3",
   "version": "3.9.18"
  }
 },
 "nbformat": 4,
 "nbformat_minor": 2
}
