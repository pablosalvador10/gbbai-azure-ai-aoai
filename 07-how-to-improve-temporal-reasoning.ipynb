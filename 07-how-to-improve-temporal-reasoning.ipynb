{
 "cells": [
  {
   "cell_type": "code",
   "execution_count": 1,
   "metadata": {},
   "outputs": [
    {
     "name": "stdout",
     "output_type": "stream",
     "text": [
      "Directory C:\\Users\\pablosal\\Desktop\\gbbai-azure-aoai does not exist.\n"
     ]
    }
   ],
   "source": [
    "import os\n",
    "\n",
    "# Define the target directory\n",
    "target_directory = (\n",
    "    r\"C:\\Users\\pablosal\\Desktop\\gbbai-azure-aoai\"  # change your directory here\n",
    ")\n",
    "\n",
    "# Check if the directory exists\n",
    "if os.path.exists(target_directory):\n",
    "    # Change the current working directory\n",
    "    os.chdir(target_directory)\n",
    "    print(f\"Directory changed to {os.getcwd()}\")\n",
    "else:\n",
    "    print(f\"Directory {target_directory} does not exist.\")"
   ]
  },
  {
   "cell_type": "code",
   "execution_count": 3,
   "metadata": {},
   "outputs": [],
   "source": [
    "from src.aoai.azure_openai import AzureOpenAIManager\n",
    "\n",
    "azure_openai_client = AzureOpenAIManager()"
   ]
  },
  {
   "cell_type": "code",
   "execution_count": 6,
   "metadata": {},
   "outputs": [],
   "source": [
    "import os\n",
    "import json\n",
    "from datetime import datetime, timedelta\n",
    "from zoneinfo import ZoneInfo\n",
    "\n",
    "# Simplified game schedule data\n",
    "GAME_SCHEDULE = {\n",
    "    \"mariners\": {\"opponent\": \"Astros\", \"date_time\": \"2024-07-19T19:10:00\", \"time_zone\": \"America/Los_Angeles\"}\n",
    "}\n",
    "\n",
    "# Simplified timezone data\n",
    "TIMEZONE_DATA = {\n",
    "    \"tokyo\": \"Asia/Tokyo\",\n",
    "    \"san francisco\": \"America/Los_Angeles\",\n",
    "    \"paris\": \"Europe/Paris\"\n",
    "}\n",
    "\n",
    "def get_game_time(team_name):\n",
    "    \"\"\"Get the game time for a given team\"\"\"\n",
    "    print(f\"get_game_time called with team_name: {team_name}\")  \n",
    "    team_name_lower = team_name.lower()\n",
    "    \n",
    "    if team_name_lower in GAME_SCHEDULE:\n",
    "        game_info = GAME_SCHEDULE[team_name_lower]\n",
    "        game_time = datetime.fromisoformat(game_info[\"date_time\"]).replace(tzinfo=ZoneInfo(game_info[\"time_zone\"]))\n",
    "        return json.dumps({\n",
    "            \"team\": team_name,\n",
    "            \"opponent\": game_info[\"opponent\"],\n",
    "            \"game_time\": game_time.strftime(\"%Y-%m-%d %H:%M %Z\"),\n",
    "            \"time_zone\": game_info[\"time_zone\"]\n",
    "        })\n",
    "    \n",
    "    print(f\"No game data found for {team_name_lower}\")  \n",
    "    return json.dumps({\"team\": team_name, \"game_time\": \"unknown\"})\n",
    "\n",
    "def get_current_time_zone(location):\n",
    "    \"\"\"Get the current time zone for a given location\"\"\"\n",
    "    print(f\"get_current_time_zone called with location: {location}\")  \n",
    "    location_lower = location.lower()\n",
    "    \n",
    "    for key, timezone in TIMEZONE_DATA.items():\n",
    "        if key in location_lower:\n",
    "            print(f\"Timezone found for {key}\")  \n",
    "            return json.dumps({\n",
    "                \"location\": location,\n",
    "                \"time_zone\": timezone\n",
    "            })\n",
    "    \n",
    "    print(f\"No timezone data found for {location_lower}\")  \n",
    "    return json.dumps({\"location\": location, \"time_zone\": \"unknown\"})"
   ]
  },
  {
   "cell_type": "code",
   "execution_count": 9,
   "metadata": {},
   "outputs": [],
   "source": [
    "from datetime import datetime\n",
    "import pytz\n",
    "\n",
    "# Simulate internal database retrieval function\n",
    "def get_game_time():\n",
    "    pdt = pytz.timezone('America/Los_Angeles')\n",
    "    game_time = datetime(2024, 7, 19, 19, 10, tzinfo=pdt)  # July 19, 2024, 7:10 PM PDT\n",
    "    return game_time"
   ]
  },
  {
   "cell_type": "code",
   "execution_count": null,
   "metadata": {},
   "outputs": [],
   "source": [
    "import openai\n",
    "\n",
    "prompts = [\n",
    "    {\n",
    "        \"role\": \"system\",\n",
    "        \"content\": '''You are a virtual assistant providing information about sports events. If you are sending back a time-related response, \n",
    "                        make sure to return it in the user's time zone. Include reasoning steps to verify the date and time are accurate in the user's time zone.'''\n",
    "    },\n",
    "    {\n",
    "        \"role\": \"user\",\n",
    "        \"content\": \"When is the next Mariners game?\"\n",
    "    },\n",
    "    {\n",
    "        \"role\": \"assistant\",\n",
    "        \"content\": '''First, determine the game's time in the source time zone (PDT). Convert this time to the user's time zone. Verify that both the date and time are correct. \n",
    "                            The next game for the Seattle Mariners is against the Houston Astros oJuly 20, 2024, in UTC.'''\n",
    "    }\n",
    "]\n",
    "\n"
   ]
  },
  {
   "cell_type": "markdown",
   "metadata": {},
   "source": [
    "Option 1\n",
    "\n",
    "\n",
    "Prompt Enngineering Route: \n",
    "\n",
    "\n",
    "\n",
    "1. Convert Date {} from UTC into PST Time Zone\n",
    "            E.G (if 2/3/5 UTC )\n"
   ]
  },
  {
   "cell_type": "code",
   "execution_count": null,
   "metadata": {},
   "outputs": [],
   "source": [
    "def fucntion time()\n",
    "    return get_game_time(\"mariners\")"
   ]
  },
  {
   "cell_type": "code",
   "execution_count": null,
   "metadata": {},
   "outputs": [],
   "source": [
    "time =  fucntion_time()"
   ]
  },
  {
   "cell_type": "code",
   "execution_count": null,
   "metadata": {},
   "outputs": [],
   "source": [
    "f'''The NBA playoff game is scheduled {time}. Since you are in the PST/PDT(time constrain) time zone, could you convert this UTC time to \n",
    "    PST and let us know the local time for the game's start? This will ensure you don't miss any of the action.''',"
   ]
  },
  {
   "cell_type": "code",
   "execution_count": 5,
   "metadata": {},
   "outputs": [],
   "source": [
    "PROMPTS = [\n",
    "    '''The NBA playoff game is scheduled for August 2, 2024, at 21:30 UTC. Since you are in the PST time zone, could you convert this UTC time to \n",
    "    PST and let us know the local time for the game's start? This will ensure you don't miss any of the action.''',\n",
    "    '''Greetings! The final of the tennis tournament is set for August 3, 2024, at 14:00 UTC. Please convert this UTC time to PST and inform us of the local start time. \n",
    "    This will help you synchronize your schedule with the event.''',\n",
    "    '''Hi there! A baseball game is scheduled to begin on August 4, 2024, at 20:45 UTC. As you are in the PST time zone, \n",
    "    please convert this start time from UTC to PST and provide the local time for the game. This will assist in planning your evening accordingly.''',\n",
    "    '''Hello! The Formula 1 race is set to start on August 5, 2024, at 07:00 UTC. Please convert this time from UTC to PST and provide the local start time of the race.\n",
    "      This information will be valuable for organizing your race-day activities.''',\n",
    "    '''Dear Customer, an eSports tournament match is scheduled for August 6, 2024, at 13:30 UTC. To help you plan your participation, \n",
    "    please convert this UTC time to PST and let us know the local time for the event. We want to make sure you catch all the action.''',\n",
    "    '''Hi! The golf championship round is set to begin on August 7, 2024, at 09:00 UTC. Please convert this UTC time to PST and provide the local start time. \n",
    "    This will ensure you stay on top of the tournament schedule.''',\n",
    "    '''Hello! The marathon race is planned to start on August 8, 2024, at 05:00 UTC. As you are located in the PST time zone, please convert this UTC time to PST \n",
    "    and let us know the local start time. This will help you prepare for the race efficiently.''',\n",
    "    '''Dear User, the international cricket match is scheduled to begin on August 9, 2024, at 23:15 UTC. Please convert this time from UTC to PST and provide \n",
    "    the local start time for the match. This will help you catch every thrilling moment.''',\n",
    "    '''Greetings! The swimming competition finals are set for August 10, 2024, at 16:00 UTC. Please convert this UTC time to PST and provide the local start time. \n",
    "    This will assist you in planning your day around the competition.'''\n",
    "]"
   ]
  },
  {
   "cell_type": "code",
   "execution_count": 14,
   "metadata": {},
   "outputs": [
    {
     "name": "stderr",
     "output_type": "stream",
     "text": [
      "2024-08-02 11:35:36,905 - micro - MainProcess - INFO     Sending request to Azure OpenAI with query: When is the next Mariners game? (azure_openai.py:generate_chat_response:365)\n"
     ]
    }
   ],
   "source": [
    "result = await azure_openai_client.generate_chat_response(system_message_content='''You are a virtual assistant providing information about sports events. If you are sending back a time-related response, \n",
    "                                                                             make sure to return it in the user's time zone. Include reasoning steps to verify the date and time are accurate in the user's time zone.''',\n",
    "                                                          query=\"When is the next Mariners game?\",\n",
    "                                                          conversation_history=[],\n",
    "                                                          tool_choice=['']\n",
    "                                                          )\n"
   ]
  },
  {
   "cell_type": "code",
   "execution_count": 16,
   "metadata": {},
   "outputs": [
    {
     "data": {
      "text/plain": [
       "\"To provide you with the accurate date and time for the next Seattle Mariners game, I'll need to gather the current schedule information for the Mariners and also ensure I'm accounting for the correct time zone.\\n\\nFirst, let me check the latest schedule for the Seattle Mariners. \\n\\n[Fetching the schedule...]\\n\\nThe next Mariners game is scheduled for [Date] at [Time] PT (Pacific Time).\\n\\nNow, to ensure this is accurate for your time zone, please let me know your current time zone or location. If you are in the Pacific Time Zone, the game will be at the time mentioned above. If you're in a different time zone, I can convert the game time accordingly.\\n\\nFor instance:\\n- If you are in the Eastern Time Zone (ET), the\""
      ]
     },
     "execution_count": 16,
     "metadata": {},
     "output_type": "execute_result"
    }
   ],
   "source": [
    "result[0]"
   ]
  }
 ],
 "metadata": {
  "kernelspec": {
   "display_name": "aoai-faq",
   "language": "python",
   "name": "python3"
  },
  "language_info": {
   "codemirror_mode": {
    "name": "ipython",
    "version": 3
   },
   "file_extension": ".py",
   "mimetype": "text/x-python",
   "name": "python",
   "nbconvert_exporter": "python",
   "pygments_lexer": "ipython3",
   "version": "3.9.18"
  }
 },
 "nbformat": 4,
 "nbformat_minor": 2
}
