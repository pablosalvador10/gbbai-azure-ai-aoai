{
 "cells": [
  {
   "cell_type": "markdown",
   "metadata": {},
   "source": [
    "## 📚 Prerequisites\n",
    "\n",
    "Ensure that your Azure Services are properly set up, your Conda environment is created, and your environment variables are configured as per the instructions in the [SETTINGS.md](SETTINGS.md) file.\n",
    "\n",
    "## 📋 Table of Contents\n",
    "\n",
    "This notebook assists in counting the input tokens for Azure OpenAI models, covering the following sections:\n",
    "\n",
    "1. [**Setting Up Azure OpenAI Client**](#setting-up-azure-openai-client): Outlines the process of initializing the Azure OpenAI client.\n",
    "\n",
    "2. [**Estimating Token Usage for Azure OpenAI Models - Text**](#estimating-token-usage-for-azure-openai-models-text): Discusses how to estimate token usage for text inputs.\n",
    "\n",
    "3. [**Estimating Token Usage for Azure OpenAI Models - Images**](#estimating-token-usage-for-azure-openai-models-images): Explores how to estimate token usage for image inputs.\n",
    "\n",
    "4. [**Estimating Token Usage for Azure OpenAI Models - Audio**](#estimating-token-usage-for-azure-openai-models-audio): Details the steps to estimate token usage for audio inputs.\n",
    "\n",
    "For additional information, refer to the following resources:\n",
    "- [Visit the blog for deep insights](https://pabloaicorner.hashnode.dev/how-to-extract-and-analyze-azure-openai-response-headers)\n",
    "- [AOAI API Documentation](https://learn.microsoft.com/en-us/azure/ai-services/openai/reference)"
   ]
  },
  {
   "cell_type": "code",
   "execution_count": 11,
   "metadata": {},
   "outputs": [
    {
     "name": "stdout",
     "output_type": "stream",
     "text": [
      "Directory changed to C:\\Users\\pablosal\\Desktop\\gbbai-azure-aoai-faq\n"
     ]
    }
   ],
   "source": [
    "import os\n",
    "\n",
    "# Define the target directory\n",
    "target_directory = (\n",
    "    r\"C:\\Users\\pablosal\\Desktop\\gbbai-azure-aoai-faq\"  # change your directory here\n",
    ")\n",
    "\n",
    "# Check if the directory exists\n",
    "if os.path.exists(target_directory):\n",
    "    # Change the current working directory\n",
    "    os.chdir(target_directory)\n",
    "    print(f\"Directory changed to {os.getcwd()}\")\n",
    "else:\n",
    "    print(f\"Directory {target_directory} does not exist.\")"
   ]
  },
  {
   "cell_type": "markdown",
   "metadata": {},
   "source": [
    "## Setting Up Azure OpenAI Client   "
   ]
  },
  {
   "cell_type": "code",
   "execution_count": 12,
   "metadata": {},
   "outputs": [],
   "source": [
    "# Create an instance of the client. You can find it in src/aoai/azure_openai.py.\n",
    "# It is essentially a wrapper using dependency injection to automate the initialization\n",
    "# and most used API calls.\n",
    "from src.aoai.azure_openai import AzureOpenAIManager\n",
    "from typing import Union, Optional, List, Dict\n",
    "import tiktoken\n",
    "from utils.ml_logging import get_logger\n",
    "\n",
    "# Set up logger\n",
    "logger = get_logger()\n",
    "\n",
    "azure_openai_client = AzureOpenAIManager()"
   ]
  },
  {
   "cell_type": "markdown",
   "metadata": {},
   "source": [
    "## Estimating Token Usage for Azure OpenAI Models - Text"
   ]
  },
  {
   "cell_type": "markdown",
   "metadata": {},
   "source": [
    "\n",
    "### 101 Understanin the library behing th emagic  `tiktoken` Does and How It Works\n",
    "\n",
    "`tiktoken` is a fast Byte Pair Encoding (BPE) tokenizer for OpenAI's models. Here's a deeper look:\n",
    "\n",
    "- **Installation**: Install via PyPI:\n",
    "  ```sh\n",
    "  pip install tiktoken\n",
    "  ```\n",
    "\n",
    "- **Basic Usage**:\n",
    "  ```python\n",
    "  import tiktoken\n",
    "  encoding = tiktoken.get_encoding(\"model_name\")\n",
    "  tokens = encoding.encode(\"your text here\")\n",
    "  ```\n",
    "\n",
    "- **Model-Specific Tokenizer**:\n",
    "  ```python\n",
    "  encoding = tiktoken.get_encoding(\"gpt-3.5-turbo\")\n",
    "  tokens = encoding.encode(\"your text here\")\n",
    "  ```\n",
    "\n",
    "- **Performance**: `tiktoken` is 3-6x faster than other tokenizers, ideal for large text volumes.\n",
    "\n",
    "### Byte Pair Encoding (BPE)\n",
    "\n",
    "BPE converts text into tokens with several advantages:\n",
    "\n",
    "- **Reversible and Lossless**: Convert tokens back to the original text without loss.\n",
    "- **Handles Arbitrary Text**: Works with text not in the tokenizer's training data.\n",
    "- **Compression**: Token sequences are generally shorter than the original text bytes.\n",
    "- **Common Subwords**: Helps models recognize common subwords, improving grammar understanding.\n",
    "\n",
    "### Extending `tiktoken`\n",
    "\n",
    "You can extend `tiktoken` to support new encodings:\n",
    "\n",
    "```python \n",
    "cl100k_base = tiktoken.get_encoding(\"cl100k_base\")\n",
    "enc = tiktoken.Encoding(\n",
    "    name=\"cl100k_im\",\n",
    "    pat_str=cl100k_base._pat_str,\n",
    "    mergeable_ranks=cl100k_base._mergeable_ranks,\n",
    "    special_tokens={**cl100k_base._special_tokens, \"new_token\": 100001}\n",
    ")\n",
    "```"
   ]
  },
  {
   "cell_type": "markdown",
   "metadata": {},
   "source": [
    "## Implementation of Tokenization with Azure OpenAI 🚀\n",
    "\n",
    "We use the `tiktoken` library to count tokens, leveraging its specialized capabilities:\n",
    "\n",
    "### Key Features:\n",
    "\n",
    "- **Model-Specific Encoding**: Each OpenAI model has unique encoding rules. `tiktoken` provides these specific encodings, ensuring accurate token counts.\n",
    "- **Versatile Input Handling**: Messages can include roles, content, and names. `tiktoken` encodes these correctly, ensuring precise token counts.\n",
    "- **Error Handling**: If a model's encoding isn't found, `tiktoken` falls back to a base encoding (`cl100k_base`), still providing a token estimate.\n",
    "- **Efficiency**: Optimized for performance, `tiktoken` is suitable for real-time applications requiring fast token counting.\n",
    "\n",
    "## Optimization for Accurate Token Counting 🎯\n",
    "\n",
    "To achieve 100% accuracy in token counting for Azure OpenAI, the function incorporates several key elements:\n",
    "\n",
    "- **Model-Specific Encoding**: The function uses `tiktoken.encoding_for_model` to get the correct encoding for the specified model. This ensures that the token count is accurate according to the model's unique encoding rules. \n",
    "- **Tokens Per Message**: Each message has a base token count added (`tokens_per_message`), which varies depending on the model. This accounts for the structural tokens required by the model. \n",
    "- **Tokens Per Name**: If the message contains a name, additional tokens are added (`tokens_per_name`). This accounts for the extra tokens needed to encode the name field. \n",
    "- **Function Calls**: If `has_function_call` is `True`, extra tokens are added to account for the function call. This ensures that the token count includes the overhead of function call tokens. \n",
    "- **Priming Tokens**: An additional 3 tokens are added to prime the model for each reply. This is necessary to prepare the model for generating a response.\n",
    "\n",
    "Here's our function `estimate_tokens_azure_openai` that uses `tiktoken` to estimate the number of tokens for a list of messages:"
   ]
  },
  {
   "cell_type": "code",
   "execution_count": 13,
   "metadata": {},
   "outputs": [],
   "source": [
    "def estimate_tokens_azure_openai(\n",
    "    messages: List[Dict[str, Union[str, int]]],\n",
    "    model: str = \"gpt-3.5-turbo-0613\",\n",
    "    has_function_call: bool = False,\n",
    ") -> int:\n",
    "    \"\"\"\n",
    "    Estimates the number of tokens used by a list of messages for a specific OpenAI model.\n",
    "\n",
    "    This function estimates the token count for a given set of messages based on the model's specific encoding and formatting rules.\n",
    "\n",
    "    :param messages (List[Dict[str, Union[str, int]]]): A list of messages, each represented as a dictionary.\n",
    "    :param model (str): The model name, which determines the encoding and token counting rules. Default is \"gpt-3.5-turbo-0613\".\n",
    "    :param has_function_call (bool): Flag to indicate if there is a function call in the messages, which affects token count.\n",
    "\n",
    "    :return (int): The estimated number of tokens for the provided messages.\n",
    "    \"\"\"\n",
    "    try:\n",
    "        encoding = tiktoken.encoding_for_model(model)\n",
    "    except KeyError:\n",
    "        logger.warning(\"Model not found. Using cl100k_base encoding.\")\n",
    "        encoding = tiktoken.get_encoding(\"cl100k_base\")\n",
    "\n",
    "    tokens_per_message = {\n",
    "        \"gpt-3.5-turbo-0613\": 3,\n",
    "        \"gpt-3.5-turbo-16k-0613\": 3,\n",
    "        \"gpt-4-0314\": 3,\n",
    "        \"gpt-4-32k-0314\": 3,\n",
    "        \"gpt-4-0613\": 3,\n",
    "        \"gpt-4-32k-0613\": 3,\n",
    "        \"gpt-3.5-turbo-0301\": 4,\n",
    "        \"gpt-4o\": 3,\n",
    "        \"gpt-4o-mini\": 3,\n",
    "    }.get(model, 3)\n",
    "\n",
    "    tokens_per_name = {\n",
    "        \"gpt-3.5-turbo-0301\": -1,\n",
    "    }.get(model, 1)\n",
    "\n",
    "    num_tokens = 0\n",
    "    for message in messages:\n",
    "        num_tokens += tokens_per_message\n",
    "        for key, value in message.items():\n",
    "            if key in [\"role\", \"content\", \"name\"] and isinstance(value, str):\n",
    "                num_tokens += len(encoding.encode(value))\n",
    "                if key == \"name\":\n",
    "                    num_tokens += tokens_per_name\n",
    "\n",
    "    # Adjust for function calls\n",
    "    if has_function_call:\n",
    "        num_tokens += 9\n",
    "\n",
    "    # Priming for each reply with 'assistant'\n",
    "    num_tokens += 3\n",
    "\n",
    "    return num_tokens"
   ]
  },
  {
   "cell_type": "markdown",
   "metadata": {},
   "source": [
    "##### Constructing the Request\n",
    "\n",
    "- **max_tokens**: Optional. Integer specifying the maximum number of tokens to generate. Default is 24.\n",
    "- **temperature**: Optional. Number between 0 and 1 indicating the sampling temperature. Default is 1.\n",
    "- **top_p**: Optional. Nucleus sampling parameter as a number between 0 and 1. Default is 1.\n",
    "- **user**: Optional. A unique identifier for the end-user to help monitor and detect abuse.\n",
    "- **n**: Optional. Integer for the number of completions to generate for each prompt. Default is 1.\n",
    "- **presence_penalty**: Optional. Number between -2.0 and 2.0 to penalize new tokens based on presence in the text so far. Default is 0.\n",
    "- **frequency_penalty**: Optional. Number between -2.0 and 2.0 to penalize new tokens based on frequency in the text so far. Default is 0.\n",
    "- **messages**: An array of message objects.\n",
    "\n",
    "You can learn more about the aoai API  [official documentation](https://learn.microsoft.com/en-us/azure/ai-services/openai/reference)."
   ]
  },
  {
   "cell_type": "code",
   "execution_count": 14,
   "metadata": {},
   "outputs": [],
   "source": [
    "body = {\n",
    "    \"max_tokens\": 24,\n",
    "    \"temperature\": 1,\n",
    "    \"top_p\": 1,\n",
    "    \"user\": \"\",\n",
    "    \"n\": 1,\n",
    "    \"presence_penalty\": 0,\n",
    "    \"frequency_penalty\": 0,\n",
    "    \"messages\": [\n",
    "        {\"role\": \"system\", \"content\": \"You are a helpful assistant.\"},\n",
    "        {\"role\": \"user\", \"content\": \"Does Azure OpenAI support customer managed keys?\"},\n",
    "        {\n",
    "            \"role\": \"assistant\",\n",
    "            \"content\": \"Yes, customer managed keys are supported by Azure OpenAI.\",\n",
    "        },\n",
    "        {\"role\": \"user\", \"content\": \"Do other Azure AI services support this too?\"},\n",
    "        {\n",
    "            \"role\": \"assistant\",\n",
    "            \"content\": \"Yes, other Azure AI services also support customer managed keys.\",\n",
    "        },\n",
    "        {\"role\": \"user\", \"content\": \"Can you tell me more about these services?\"},\n",
    "        {\n",
    "            \"role\": \"assistant\",\n",
    "            \"content\": \"Sure, Azure AI services include Azure Cognitive Services, Azure Machine Learning, and more.\",\n",
    "        },\n",
    "        {\"role\": \"user\", \"content\": \"What is Azure Cognitive Services?\"},\n",
    "        {\n",
    "            \"role\": \"assistant\",\n",
    "            \"content\": \"Azure Cognitive Services is a collection of APIs and services for building intelligent applications.\",\n",
    "        },\n",
    "        {\"role\": \"user\", \"content\": \"What is Azure Machine Learning?\"},\n",
    "        {\n",
    "            \"role\": \"assistant\",\n",
    "            \"content\": \"Azure Machine Learning is a cloud-based service for building, training, and deploying machine learning models.\",\n",
    "        },\n",
    "        {\"role\": \"user\", \"content\": \"Thank you for the information.\"},\n",
    "        {\n",
    "            \"role\": \"assistant\",\n",
    "            \"content\": \"You're welcome! If you have any other questions, feel free to ask.\",\n",
    "        },\n",
    "        {\"role\": \"user\", \"content\": \"What other services does Azure offer?\"},\n",
    "        {\n",
    "            \"role\": \"assistant\",\n",
    "            \"content\": \"Azure offers a wide range of services including computing, analytics, storage, and networking.\",\n",
    "        },\n",
    "        {\n",
    "            \"role\": \"user\",\n",
    "            \"content\": \"Can you tell me more about Azure's computing services?\",\n",
    "        },\n",
    "        {\n",
    "            \"role\": \"assistant\",\n",
    "            \"content\": \"Azure's computing services include virtual machines, container services, and serverless computing.\",\n",
    "        },\n",
    "        {\"role\": \"user\", \"content\": \"What is serverless computing?\"},\n",
    "        {\n",
    "            \"role\": \"assistant\",\n",
    "            \"content\": \"Serverless computing is a cloud computing model where the cloud provider automatically manages the provisioning and scaling of servers.\",\n",
    "        },\n",
    "        {\n",
    "            \"role\": \"user\",\n",
    "            \"content\": \"That's interesting. Thank you for the information.\",\n",
    "        },\n",
    "        {\n",
    "            \"role\": \"assistant\",\n",
    "            \"content\": \"You're welcome! If you have any other questions, feel free to ask.\",\n",
    "        },\n",
    "    ],\n",
    "}"
   ]
  },
  {
   "cell_type": "code",
   "execution_count": 16,
   "metadata": {},
   "outputs": [
    {
     "data": {
      "text/plain": [
       "330"
      ]
     },
     "execution_count": 16,
     "metadata": {},
     "output_type": "execute_result"
    }
   ],
   "source": [
    "import tiktoken\n",
    "estimate_tokens_azure_openai(messages=body[\"messages\"], model=\"gpt-4o\")"
   ]
  },
  {
   "cell_type": "markdown",
   "metadata": {},
   "source": [
    "### Breakdown of the Result Tokens:\n",
    "\n",
    "The function `estimate_tokens_azure_openai(messages=body[\"messages\"], model=\"gpt-4o\")` uses the `tiktoken` library to estimate the number of tokens. Here's a detailed breakdown based on the model and the specific tokens added:\n",
    "\n",
    "- **Message Tokens**: The total number of tokens contributed by the content of the messages. This includes the actual text of the messages.\n",
    "\n",
    "- **Structural Tokens**: Tokens added for the roles, names, and any function calls. These are calculated based on the model-specific parameters:\n",
    "  - **Tokens per Message**: \n",
    "    ```python\n",
    "    tokens_per_message = {\n",
    "        \"gpt-3.5-turbo-0613\": 3,\n",
    "        \"gpt-3.5-turbo-16k-0613\": 3,\n",
    "        \"gpt-4-0314\": 3,\n",
    "        \"gpt-4-32k-0314\": 3,\n",
    "        \"gpt-4-0613\": 3,\n",
    "        \"gpt-4-32k-0613\": 3,\n",
    "        \"gpt-3.5-turbo-0301\": 4,\n",
    "        \"gpt-4o\": 3,\n",
    "        \"gpt-4o-mini\": 3,\n",
    "    }.get(model, 3)\n",
    "    ```\n",
    "    For the `gpt-4o` model, 3 tokens are added per message.\n",
    "\n",
    "  - **Tokens per Name**:\n",
    "    ```python\n",
    "    tokens_per_name = {\n",
    "        \"gpt-3.5-turbo-0301\": -1,\n",
    "    }.get(model, 1)\n",
    "    ```\n",
    "    For the `gpt-4o` model, 1 token is added per name.\n",
    "\n",
    "- **Priming Tokens**: The 3 tokens added to prime the model. This is necessary to prepare the model for generating a response."
   ]
  },
  {
   "cell_type": "markdown",
   "metadata": {},
   "source": [
    "## 🧪 Comprehensive Testing of Token Counting with Multiple Scenarios"
   ]
  },
  {
   "cell_type": "code",
   "execution_count": 17,
   "metadata": {},
   "outputs": [],
   "source": [
    "from utils.chat_prompts.prompts_test import (\n",
    "    HEALTHY_EATING_CHAT_PROMPTS,\n",
    "    ONLINE_EDUCATION_CHAT_PROMPTS,\n",
    "    SMART_TECHNOLOGY_CHAT_PROMPTS,\n",
    "    AUGMENTED_REALITY_CHAT_PROMPTS,\n",
    "    ELECTRIC_VEHICLE_CHAT_PROMPTS,\n",
    "    SPACE_TOURISM_CHAT_PROMPTS,\n",
    "    RENEWABLE_ENERGY_CHAT_PROMPTS,\n",
    "    AUTONOMOUS_VEHICLES_CHAT_PROMPTS,\n",
    "    VIRTUAL_REALITY_CHAT_PROMPTS,\n",
    "    AI_TECHNOLOGY_CHAT_PROMPTS,\n",
    ")\n",
    "\n",
    "all_conversations = [\n",
    "    HEALTHY_EATING_CHAT_PROMPTS,\n",
    "    ONLINE_EDUCATION_CHAT_PROMPTS,\n",
    "    SMART_TECHNOLOGY_CHAT_PROMPTS,\n",
    "    AUGMENTED_REALITY_CHAT_PROMPTS,\n",
    "    ELECTRIC_VEHICLE_CHAT_PROMPTS,\n",
    "    SPACE_TOURISM_CHAT_PROMPTS,\n",
    "    RENEWABLE_ENERGY_CHAT_PROMPTS,\n",
    "    AUTONOMOUS_VEHICLES_CHAT_PROMPTS,\n",
    "    VIRTUAL_REALITY_CHAT_PROMPTS,\n",
    "    AI_TECHNOLOGY_CHAT_PROMPTS,\n",
    "]"
   ]
  },
  {
   "cell_type": "code",
   "execution_count": 18,
   "metadata": {},
   "outputs": [],
   "source": [
    "from src.aoai.utils import (\n",
    "    calculate_accuracy,\n",
    "    display_token_results_table,\n",
    "    plot_token_analysis_results,\n",
    ")"
   ]
  },
  {
   "cell_type": "code",
   "execution_count": 19,
   "metadata": {},
   "outputs": [
    {
     "name": "stdout",
     "output_type": "stream",
     "text": [
      "              Estimated Tokens  Actual Tokens\n",
      "Conversation                                 \n",
      "0                          441            441\n",
      "1                          307            307\n",
      "2                          370            370\n",
      "3                          371            371\n",
      "4                          332            332\n",
      "5                          388            388\n",
      "6                          742            742\n",
      "7                          135            135\n",
      "8                          130            130\n",
      "9                          171            171\n",
      "Total                     3387           3387\n"
     ]
    }
   ],
   "source": [
    "# Analyze conversations\n",
    "(\n",
    "    results,\n",
    "    total_estimated,\n",
    "    total_actual,\n",
    ") = azure_openai_client.analyze_chat_completion_token_count_results(\n",
    "    all_conversations, \"gpt-4o\"\n",
    ")\n",
    "\n",
    "# Display results in a table\n",
    "display_token_results_table(results)"
   ]
  },
  {
   "cell_type": "code",
   "execution_count": 20,
   "metadata": {},
   "outputs": [
    {
     "data": {
      "image/png": "[encoded data removed]",
      "text/plain": [
       "<Figure size 1200x800 with 1 Axes>"
      ]
     },
     "metadata": {},
     "output_type": "display_data"
    }
   ],
   "source": [
    "# Plot the results\n",
    "plot_token_analysis_results(results, total_estimated, total_actual)"
   ]
  },
  {
   "cell_type": "markdown",
   "metadata": {},
   "source": [
    "## Estimating Token Usage for Azure OpenAI Models - Images"
   ]
  },
  {
   "cell_type": "code",
   "execution_count": null,
   "metadata": {},
   "outputs": [],
   "source": [
    "azure_openai_client.generate_chat_response(query=\"Describe this image.\",\n",
    "                                           )"
   ]
  }
 ],
 "metadata": {
  "kernelspec": {
   "display_name": "vector-indexing-azureaisearch",
   "language": "python",
   "name": "python3"
  },
  "language_info": {
   "codemirror_mode": {
    "name": "ipython",
    "version": 3
   },
   "file_extension": ".py",
   "mimetype": "text/x-python",
   "name": "python",
   "nbconvert_exporter": "python",
   "pygments_lexer": "ipython3",
   "version": "3.9.18"
  }
 },
 "nbformat": 4,
 "nbformat_minor": 2
}
