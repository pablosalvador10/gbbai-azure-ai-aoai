{
 "cells": [
  {
   "cell_type": "markdown",
   "metadata": {},
   "source": [
    "## 📚 Prerequisites\n",
    "\n",
    "Ensure that your Azure Services are properly set up, your Conda environment is created, and your environment variables are configured as per the instructions in the [SETTINGS.md](SETTINGS.md) file."
   ]
  },
  {
   "cell_type": "code",
   "execution_count": 1,
   "metadata": {},
   "outputs": [
    {
     "name": "stdout",
     "output_type": "stream",
     "text": [
      "Directory changed to C:\\Users\\pablosal\\Desktop\\gbbai-azure-aoai-faq\n"
     ]
    }
   ],
   "source": [
    "import os\n",
    "\n",
    "# Define the target directory\n",
    "target_directory = (\n",
    "    r\"C:\\Users\\pablosal\\Desktop\\gbbai-azure-aoai-faq\"  # change your directory here\n",
    ")\n",
    "\n",
    "# Check if the directory exists\n",
    "if os.path.exists(target_directory):\n",
    "    # Change the current working directory\n",
    "    os.chdir(target_directory)\n",
    "    print(f\"Directory changed to {os.getcwd()}\")\n",
    "else:\n",
    "    print(f\"Directory {target_directory} does not exist.\")"
   ]
  },
  {
   "cell_type": "markdown",
   "metadata": {},
   "source": [
    "## 📚 Prerequisites\n",
    "\n",
    "Ensure that your Azure Services are properly set up, your Conda environment is created, and your environment variables are configured as per the instructions in the [SETTINGS.md](SETTINGS.md) file.\n",
    "\n",
    "## 📋 Table of Contents\n",
    "\n",
    "This notebook assists in testing and retrieving the headers of Azure OpenAI, covering the following sections:\n",
    "\n",
    "1. [**Setting Up Azure OpenAI Client**](#setting-up-azure-openai-client): Outlines the process of initializing the Azure OpenAI client.\n",
    "\n",
    "2. [**Calling Azure OpenAI API**](#calling-azure-openai-api): Discusses how to make API calls to Azure OpenAI.\n",
    "\n",
    "3. [**Extracting Headers and Payload Metadata**](#extracting-headers-and-payload-metadata): Explores how to extract headers and payload metadata from the API response.\n",
    "\n",
    "4. [**Analyzing Rate Limit Info**](#analyzing-rate-limit-info): Details the steps to analyze the rate limit information from the API response.\n",
    "\n",
    "For additional information, refer to the following resources:\n",
    "- [AOAI Assistants API Documentation](https://learn.microsoft.com/en-us/azure/ai-services/openai/assistants-reference?tabs=python)"
   ]
  },
  {
   "cell_type": "code",
   "execution_count": 2,
   "metadata": {},
   "outputs": [
    {
     "data": {
      "text/plain": [
       "True"
      ]
     },
     "execution_count": 2,
     "metadata": {},
     "output_type": "execute_result"
    }
   ],
   "source": [
    "from dotenv import load_dotenv\n",
    "from utils.ml_logging import get_logger\n",
    "\n",
    "# Set up logger\n",
    "logger = get_logger()\n",
    "\n",
    "# Load environment variables from .env file\n",
    "load_dotenv()"
   ]
  },
  {
   "cell_type": "code",
   "execution_count": 3,
   "metadata": {},
   "outputs": [],
   "source": [
    "from src.aoai.azure_assistants import AzureOpenAssistantManager\n",
    "\n",
    "# Create an instance of the client. You can find it in src/aoai/azure_openai.py.\n",
    "# It is essentially a wrapper using dependency injection to automate the initialization\n",
    "# and most used API calls.\n",
    "api_key = os.getenv(\"AZURE_AOAI_KEY_ASSISTANTS\")\n",
    "api_version = os.getenv(\"AZURE_AOAI_API_VERSION_ASSISTANTS\")\n",
    "azure_endpoint = os.getenv(\"AZURE_AOAI_API_ENDPOINT_ASSISTANTS\")\n",
    "completion_model_name = os.getenv(\"AZURE_AOAI_CHAT_MODEL_NAME_DEPLOYMENT_ID_ASSISTANTS\")\n",
    "\n",
    "#load client\n",
    "azure_openai_client = AzureOpenAssistantManager(api_key, api_version, azure_endpoint, completion_model_name=completion_model_name)"
   ]
  },
  {
   "cell_type": "markdown",
   "metadata": {},
   "source": [
    "## Add files"
   ]
  },
  {
   "cell_type": "code",
   "execution_count": 4,
   "metadata": {},
   "outputs": [],
   "source": [
    "## create files\n",
    "\n",
    "files = azure_openai_client.openai_client.files.create(\n",
    "    file=open(r\"C:\\Users\\pablosal\\Desktop\\gbbai-azure-ai-aoai\\utils\\artifacts\\test.txt\", \"rb\"),\n",
    "    purpose=\"assistants\"\n",
    ")"
   ]
  },
  {
   "cell_type": "code",
   "execution_count": 5,
   "metadata": {},
   "outputs": [
    {
     "data": {
      "text/plain": [
       "'assistant-FeE5GxxRreGQdb3oo2v8ELE5'"
      ]
     },
     "execution_count": 5,
     "metadata": {},
     "output_type": "execute_result"
    }
   ],
   "source": [
    "files.id"
   ]
  },
  {
   "cell_type": "code",
   "execution_count": 6,
   "metadata": {},
   "outputs": [
    {
     "name": "stderr",
     "output_type": "stream",
     "text": [
      "2024-02-29 13:26:53,523 - micro - MainProcess - INFO     {\n",
      "  \"id\": \"asst_onwwgCjaMJq8AmLj2yDCxsEi\",\n",
      "  \"created_at\": 1709234814,\n",
      "  \"description\": null,\n",
      "  \"file_ids\": [\n",
      "    \"assistant-FeE5GxxRreGQdb3oo2v8ELE5\"\n",
      "  ],\n",
      "  \"instructions\": \"You are a helpful AI assistant who can write code to help answer math questions.You have access to a sandboxed environment for writing and testing code.When you are asked to create a math questions you should follow these steps:1. Write the code.2. Anytime you write new code display a preview of the code to show your work.3. Run the code to confirm that it runs.4. If the code is successful display the result.5. If the code is unsuccessful display the error message and try to revise the code and rerun going through the steps from above again.\",\n",
      "  \"metadata\": {},\n",
      "  \"model\": \"gpt-4\",\n",
      "  \"name\": \"Math assistant\",\n",
      "  \"object\": \"assistant\",\n",
      "  \"tools\": [\n",
      "    {\n",
      "      \"type\": \"code_interpreter\"\n",
      "    }\n",
      "  ]\n",
      "} (2520778088.py:<module>:17)\n"
     ]
    }
   ],
   "source": [
    "# Create an assistant\n",
    "assistant = azure_openai_client.openai_client.beta.assistants.create(\n",
    "    name=\"Math assistant\",\n",
    "    instructions=f\"You are a helpful AI assistant who can write code to help answer math questions.\" \n",
    "    f\"You have access to a sandboxed environment for writing and testing code.\"\n",
    "    f\"When you are asked to create a math questions you should follow these steps:\"\n",
    "    f\"1. Write the code.\"\n",
    "    f\"2. Anytime you write new code display a preview of the code to show your work.\"\n",
    "    f\"3. Run the code to confirm that it runs.\"\n",
    "    f\"4. If the code is successful display the result.\"\n",
    "    f\"5. If the code is unsuccessful display the error message and try to revise the code and rerun going through the steps from above again.\",\n",
    "    tools=[{\"type\": \"code_interpreter\"}],\n",
    "    model=f'{completion_model_name}',\n",
    "    file_ids=[files.id]\n",
    ")\n",
    "\n",
    "logger.info(assistant.model_dump_json(indent=2))"
   ]
  },
  {
   "cell_type": "code",
   "execution_count": 7,
   "metadata": {},
   "outputs": [
    {
     "name": "stderr",
     "output_type": "stream",
     "text": [
      "2024-02-29 13:26:58,473 - micro - MainProcess - INFO     Thread(id='thread_rBzRbGybJcyvxW9TIaVvyMXk', created_at=1709234819, metadata={}, object='thread') (3556306472.py:<module>:3)\n"
     ]
    }
   ],
   "source": [
    "# Create a thread\n",
    "thread = azure_openai_client.openai_client.beta.threads.create()\n",
    "logger.info(thread)"
   ]
  },
  {
   "cell_type": "code",
   "execution_count": 8,
   "metadata": {},
   "outputs": [],
   "source": [
    "# Add a user question to the thread\n",
    "message = azure_openai_client.openai_client.beta.threads.messages.create(\n",
    "    thread_id=thread.id,\n",
    "    role=\"user\",\n",
    "    file_ids=\n",
    "    [\n",
    "        files.id\n",
    "    ],\n",
    "    content=\"If a topic modeling algorithm identifies 5 topics in a 10,000-word document, what is the average number of words per topic? (Answer: 10,000 words / 5 topics = 2000 words per topic).\"\n",
    ")"
   ]
  },
  {
   "cell_type": "code",
   "execution_count": 9,
   "metadata": {},
   "outputs": [],
   "source": [
    "run = azure_openai_client.openai_client.beta.threads.runs.create(\n",
    "  thread_id=thread.id,\n",
    "  assistant_id=assistant.id,\n",
    ")"
   ]
  },
  {
   "cell_type": "code",
   "execution_count": 10,
   "metadata": {},
   "outputs": [
    {
     "name": "stderr",
     "output_type": "stream",
     "text": [
      "2024-02-29 13:27:35,250 - micro - MainProcess - INFO     Status: completed (1685151657.py:<module>:27)\n",
      "2024-02-29 13:27:35,251 - micro - MainProcess - INFO     Elapsed time: 0 minutes 22 seconds (1685151657.py:print_elapsed_time:11)\n",
      "2024-02-29 13:27:35,252 - micro - MainProcess - INFO     {\n",
      "  \"data\": [\n",
      "    {\n",
      "      \"id\": \"msg_OlGwCCoIGQejHsigfYfngUIw\",\n",
      "      \"assistant_id\": \"asst_onwwgCjaMJq8AmLj2yDCxsEi\",\n",
      "      \"content\": [\n",
      "        {\n",
      "          \"text\": {\n",
      "            \"annotations\": [],\n",
      "            \"value\": \"The average number of words per topic in a 10,000-word document with 5 topics is 2,000 words per topic.\"\n",
      "          },\n",
      "          \"type\": \"text\"\n",
      "        }\n",
      "      ],\n",
      "      \"created_at\": 1709234852,\n",
      "      \"file_ids\": [],\n",
      "      \"metadata\": {},\n",
      "      \"object\": \"thread.message\",\n",
      "      \"role\": \"assistant\",\n",
      "      \"run_id\": \"run_t7G9ltFKzbZixbhdPkNQe8iL\",\n",
      "      \"thread_id\": \"thread_rBzRbGybJcyvxW9TIaVvyMXk\"\n",
      "    },\n",
      "    {\n",
      "      \"id\": \"msg_hw2aV8ZsFOqIpaJ9S7QAGcoJ\",\n",
      "      \"assistant_id\": \"asst_onwwgCjaMJq8AmLj2yDCxsEi\",\n",
      "      \"content\": [\n",
      "        {\n",
      "          \"text\": {\n",
      "            \"annotations\": [],\n",
      "            \"value\": \"It seems you have provided the answer along with the question. However, to calculate the average number of words per topic given a 10,000-word document with 5 topics, we would divide the total number of words by the number of topics. I will go ahead and perform this simple calculation to confirm the result:\\n\\n\\\\( \\\\text{Average words per topic} = \\\\frac{\\\\text{Total words}}{\\\\text{Number of topics}} \\\\)\"\n",
      "          },\n",
      "          \"type\": \"text\"\n",
      "        }\n",
      "      ],\n",
      "      \"created_at\": 1709234833,\n",
      "      \"file_ids\": [],\n",
      "      \"metadata\": {},\n",
      "      \"object\": \"thread.message\",\n",
      "      \"role\": \"assistant\",\n",
      "      \"run_id\": \"run_t7G9ltFKzbZixbhdPkNQe8iL\",\n",
      "      \"thread_id\": \"thread_rBzRbGybJcyvxW9TIaVvyMXk\"\n",
      "    },\n",
      "    {\n",
      "      \"id\": \"msg_1BQ3MMwcIpHsc8KWnTwHFxNK\",\n",
      "      \"assistant_id\": null,\n",
      "      \"content\": [\n",
      "        {\n",
      "          \"text\": {\n",
      "            \"annotations\": [],\n",
      "            \"value\": \"If a topic modeling algorithm identifies 5 topics in a 10,000-word document, what is the average number of words per topic? (Answer: 10,000 words / 5 topics = 2000 words per topic).\"\n",
      "          },\n",
      "          \"type\": \"text\"\n",
      "        }\n",
      "      ],\n",
      "      \"created_at\": 1709234825,\n",
      "      \"file_ids\": [\n",
      "        \"assistant-FeE5GxxRreGQdb3oo2v8ELE5\"\n",
      "      ],\n",
      "      \"metadata\": {},\n",
      "      \"object\": \"thread.message\",\n",
      "      \"role\": \"user\",\n",
      "      \"run_id\": null,\n",
      "      \"thread_id\": \"thread_rBzRbGybJcyvxW9TIaVvyMXk\"\n",
      "    }\n",
      "  ],\n",
      "  \"object\": \"list\",\n",
      "  \"first_id\": \"msg_OlGwCCoIGQejHsigfYfngUIw\",\n",
      "  \"last_id\": \"msg_1BQ3MMwcIpHsc8KWnTwHFxNK\",\n",
      "  \"has_more\": false\n",
      "} (1685151657.py:<module>:29)\n"
     ]
    }
   ],
   "source": [
    "import time\n",
    "from IPython.display import clear_output\n",
    "\n",
    "COMPLETED_STATUSES = [\"completed\", \"cancelled\", \"expired\", \"failed\"]\n",
    "SLEEP_TIME = 5\n",
    "\n",
    "def print_elapsed_time(start_time):\n",
    "    elapsed_time = time.time() - start_time\n",
    "    minutes = int(elapsed_time // 60)\n",
    "    seconds = int(elapsed_time % 60)\n",
    "    logger.info(f\"Elapsed time: {minutes} minutes {seconds} seconds\")\n",
    "\n",
    "start_time = time.time()\n",
    "\n",
    "run_status = run.status\n",
    "\n",
    "while run_status not in COMPLETED_STATUSES:\n",
    "    time.sleep(SLEEP_TIME)\n",
    "    run = azure_openai_client.openai_client.beta.threads.runs.retrieve(thread_id=thread.id, run_id=run.id)\n",
    "    run_status = run.status\n",
    "    print_elapsed_time(start_time)\n",
    "    logger.info(f'Status: {run_status}')\n",
    "    clear_output(wait=True)\n",
    "\n",
    "messages = azure_openai_client.openai_client.beta.threads.messages.list(thread_id=thread.id)\n",
    "\n",
    "logger.info(f'Status: {run_status}')\n",
    "print_elapsed_time(start_time)\n",
    "logger.info(messages.model_dump_json(indent=2))"
   ]
  },
  {
   "cell_type": "code",
   "execution_count": 11,
   "metadata": {},
   "outputs": [
    {
     "name": "stderr",
     "output_type": "stream",
     "text": [
      "2024-02-29 13:27:35,267 - micro - MainProcess - INFO     The average number of words per topic in a 10,000-word document with 5 topics is 2,000 words per topic. (1105317613.py:<module>:4)\n"
     ]
    }
   ],
   "source": [
    "import json\n",
    "\n",
    "data = json.loads(messages.model_dump_json(indent=2))\n",
    "logger.info(data['data'][0]['content'][0]['text']['value'])"
   ]
  }
 ],
 "metadata": {
  "kernelspec": {
   "display_name": "aoai-faq",
   "language": "python",
   "name": "python3"
  },
  "language_info": {
   "codemirror_mode": {
    "name": "ipython",
    "version": 3
   },
   "file_extension": ".py",
   "mimetype": "text/x-python",
   "name": "python",
   "nbconvert_exporter": "python",
   "pygments_lexer": "ipython3",
   "version": "3.9.18"
  }
 },
 "nbformat": 4,
 "nbformat_minor": 2
}
