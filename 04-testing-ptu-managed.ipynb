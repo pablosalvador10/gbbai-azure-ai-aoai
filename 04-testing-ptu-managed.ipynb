{
 "cells": [
  {
   "cell_type": "code",
   "execution_count": 1,
   "metadata": {},
   "outputs": [
    {
     "name": "stdout",
     "output_type": "stream",
     "text": [
      "Directory changed to C:\\Users\\pablosal\\Desktop\\gbbai-azure-aoai-faq\n"
     ]
    }
   ],
   "source": [
    "import os\n",
    "\n",
    "# Define the target directory\n",
    "target_directory = (\n",
    "    r\"C:\\Users\\pablosal\\Desktop\\gbbai-azure-aoai-faq\"  # change your directory here\n",
    ")\n",
    "\n",
    "# Check if the directory exists\n",
    "if os.path.exists(target_directory):\n",
    "    # Change the current working directory\n",
    "    os.chdir(target_directory)\n",
    "    print(f\"Directory changed to {os.getcwd()}\")\n",
    "else:\n",
    "    print(f\"Directory {target_directory} does not exist.\")"
   ]
  },
  {
   "cell_type": "code",
   "execution_count": 1,
   "metadata": {},
   "outputs": [],
   "source": [
    "# Import the libraries\n",
    "from dotenv import load_dotenv\n",
    "from src.aoai.azure_openai import AzureOpenAIManager\n",
    "from typing import Dict, Optional\n",
    "from requests import Response\n",
    "import requests\n",
    "\n",
    "from utils.ml_logging import get_logger\n",
    "\n",
    "# Load environment variables from .env file\n",
    "load_dotenv()\n",
    "# Set up logger\n",
    "logger = get_logger()\n",
    "\n",
    "# Create an instance of the client. You can find it in src/aoai/azure_openai.py.\n",
    "# It is essentially a wrapper using dependency injection to automate the initialization\n",
    "# and most used API calls.\n",
    "azure_openai_client = AzureOpenAIManager()"
   ]
  },
  {
   "cell_type": "code",
   "execution_count": 4,
   "metadata": {},
   "outputs": [
    {
     "name": "stderr",
     "output_type": "stream",
     "text": [
      "2024-03-08 15:46:10,269 - micro - MainProcess - INFO     Sending request to OpenAI with query: Deep Dive in the transformae architecture and focus on intrsucto -GPT (azure_openai.py:generate_chat_response:190)\n"
     ]
    },
    {
     "name": "stderr",
     "output_type": "stream",
     "text": [
      "2024-03-08 15:46:10,510 - micro - MainProcess - ERROR    Another non-200-range status code was received (azure_openai.py:generate_chat_response:218)\n",
      "2024-03-08 15:46:10,512 - micro - MainProcess - ERROR    404 (azure_openai.py:generate_chat_response:219)\n",
      "2024-03-08 15:46:10,513 - micro - MainProcess - ERROR    <Response [404 Not Found]> (azure_openai.py:generate_chat_response:220)\n"
     ]
    }
   ],
   "source": [
    "azure_openai_client.generate_chat_response(conversation_history=[], query=\"Deep Dive in the transformae architecture and focus on intrsucto -GPT\", max_tokens=1000)"
   ]
  },
  {
   "cell_type": "code",
   "execution_count": 2,
   "metadata": {},
   "outputs": [],
   "source": [
    "#Note: The openai-python library support for Azure OpenAI is in preview.\n",
    "      #Note: This code sample requires OpenAI Python library version 1.0.0 or higher.\n",
    "import os\n",
    "from openai import AzureOpenAI\n",
    "\n",
    "\n",
    "client = AzureOpenAI(\n",
    "  azure_endpoint = \"https://gbb-ea-openai-southcentralus-01.openai.azure.com/\", \n",
    "  api_key=os.getenv(\"AZURE_OPENAI_KEY\"),  \n",
    "  api_version=\"2024-02-15-preview\"\n",
    ")\n",
    "\n",
    "\n",
    "message_text = [{\"role\":\"system\",\"content\":\"You are an AI assistant that helps people find information.\"},{\"role\":\"user\",\"content\":\"Please compare Kentucky vs Madrid\"},{\"role\":\"assistant\",\"content\":\"Comparing Kentucky (a state in the United States) and Madrid (the\"}]\n",
    "\n",
    "completion = client.chat.completions.create(\n",
    "  model=\"gpt-4-0125-ptu\", # model = \"deployment_name\"\n",
    "  messages = message_text,\n",
    "  temperature=0.7,\n",
    "  max_tokens=3000,\n",
    "  top_p=0.95,\n",
    "  frequency_penalty=0,\n",
    "  presence_penalty=0,\n",
    "  stop=None\n",
    ")"
   ]
  },
  {
   "cell_type": "code",
   "execution_count": 3,
   "metadata": {},
   "outputs": [
    {
     "data": {
      "text/plain": [
       "3017"
      ]
     },
     "execution_count": 3,
     "metadata": {},
     "output_type": "execute_result"
    }
   ],
   "source": [
    "len(completion.choices[0].message.content)"
   ]
  },
  {
   "cell_type": "code",
   "execution_count": 9,
   "metadata": {},
   "outputs": [
    {
     "name": "stdout",
     "output_type": "stream",
     "text": [
      "('Comparing Kentucky, a state in the United States, with Madrid, the capital '\n",
      " 'city of Spain, involves looking at several aspects such as geographical '\n",
      " 'location, climate, economy, culture, and tourism. Here is a comparative '\n",
      " 'overview:\\n'\n",
      " '\\n'\n",
      " '**Geographical Location and Size:**\\n'\n",
      " '- **Kentucky:** Located in the southeastern region of the United States, '\n",
      " 'Kentucky is a state that covers an area of about 40,409 square miles '\n",
      " '(104,659 square kilometers).\\n'\n",
      " '- **Madrid:** Madrid is both a city and a region (autonomous community) '\n",
      " 'within Spain. The city is in the center of the country and serves as the '\n",
      " 'capital. The Madrid region covers an area of approximately 3,083 square '\n",
      " 'miles (7,995 square kilometers).\\n'\n",
      " '\\n'\n",
      " '**Climate:**\\n'\n",
      " '- **Kentucky:** Kentucky experiences a humid subtropical climate, with hot, '\n",
      " \"humid summers and cold, moderately snowy winters. The state's weather can \"\n",
      " 'vary significantly from one region to another.\\n'\n",
      " '- **Madrid:** Madrid has a continental Mediterranean climate. It features '\n",
      " 'hot summers and cold winters. The city is known for its relatively low '\n",
      " 'precipitation and a significant temperature variation between day and night, '\n",
      " 'especially during the summer.\\n'\n",
      " '\\n'\n",
      " '**Economy:**\\n'\n",
      " '- **Kentucky:** The economy of Kentucky is diverse, with industries such as '\n",
      " 'auto manufacturing, energy fuel production, and medical facilities playing '\n",
      " 'significant roles. The state is also famous for its agriculture, especially '\n",
      " 'horse breeding, tobacco, corn, and soybeans.\\n'\n",
      " '- **Madrid:** Madrid is the financial and economic center of Spain, hosting '\n",
      " 'the headquarters of many national and international companies. Key '\n",
      " 'industries include services, technology, telecommunications, and tourism. '\n",
      " 'The city is also a major cultural and educational hub.\\n'\n",
      " '\\n'\n",
      " '**Culture:**\\n'\n",
      " '- **Kentucky:** Kentucky is known for its rich cultural heritage, including '\n",
      " 'bluegrass music, bourbon distilleries, and horse racing, notably the '\n",
      " 'Kentucky Derby. The state also has a significant history in the American '\n",
      " 'Civil War.\\n'\n",
      " '- **Madrid:** Madrid boasts a vibrant cultural scene, with numerous museums '\n",
      " '(such as the Prado, Reina Sofía, and Thyssen-Bornemisza), theaters, and '\n",
      " 'historical sites. The city is famous for its culinary scene, nightlife, and '\n",
      " 'festivals. Madrid is also a center for Spanish art, literature, and '\n",
      " 'architecture.\\n'\n",
      " '\\n'\n",
      " '**Tourism:**\\n'\n",
      " '- **Kentucky:** Tourist attractions in Kentucky include the Mammoth Cave '\n",
      " \"National Park (the world's longest cave system), the Kentucky Bourbon Trail, \"\n",
      " 'and the historic city of Louisville.\\n'\n",
      " '- **Madrid:** Madrid attracts tourists with its historic squares (like Plaza '\n",
      " 'Mayor), royal palaces (such as the Royal Palace of Madrid), and parks '\n",
      " \"(notably Retiro Park). The city's art galleries and vibrant street life also \"\n",
      " 'draw many visitors.\\n'\n",
      " '\\n'\n",
      " 'In summary, Kentucky and Madrid differ significantly in terms of '\n",
      " 'geographical location, size, climate, and cultural offerings. While Kentucky '\n",
      " 'offers a blend of natural beauty, American cultural experiences, and '\n",
      " 'agricultural heritage, Madrid provides a rich tapestry of European history, '\n",
      " 'art, and modern urban life.')\n"
     ]
    }
   ],
   "source": [
    "import pprint\n",
    "pprint.pprint(completion.choices[0].message.content)"
   ]
  },
  {
   "cell_type": "code",
   "execution_count": 4,
   "metadata": {},
   "outputs": [],
   "source": [
    "from src.aoai.tokenizer import AzureOpenAITokenizer\n",
    "az_tokenizer = AzureOpenAITokenizer()"
   ]
  },
  {
   "cell_type": "code",
   "execution_count": 5,
   "metadata": {},
   "outputs": [
    {
     "data": {
      "text/plain": [
       "609"
      ]
     },
     "execution_count": 5,
     "metadata": {},
     "output_type": "execute_result"
    }
   ],
   "source": [
    "az_tokenizer.estimate_tokens_completion(response=completion.choices[0].message.content, model=\"gpt-4\")"
   ]
  },
  {
   "cell_type": "code",
   "execution_count": 16,
   "metadata": {},
   "outputs": [],
   "source": [
    "import time\n",
    "\n",
    "def run_and_get_stats():\n",
    "    stats = []\n",
    "    for i in range(10):\n",
    "        start_time = time.time()\n",
    "\n",
    "        completion = client.chat.completions.create(\n",
    "            model=\"gpt-4-0125-ptu\",\n",
    "            messages=message_text,\n",
    "            temperature=0.7,\n",
    "            max_tokens=3000,\n",
    "            top_p=0.95,\n",
    "            frequency_penalty=0,\n",
    "            presence_penalty=0,\n",
    "            stop=None\n",
    "        )\n",
    "\n",
    "        tokens = az_tokenizer.estimate_tokens_completion(response=completion.choices[0].message.content, model=\"gpt-4\")\n",
    "        message_length = len(completion.choices[0].message.content)\n",
    "        run_time = time.time() - start_time\n",
    "\n",
    "        stats.append({\n",
    "            'run': i + 1,\n",
    "            'tokens': tokens,\n",
    "            'message_length': message_length,\n",
    "            'run_time': run_time,\n",
    "        })\n",
    "\n",
    "    return stats\n",
    "\n",
    "# Run the function and print the stats\n",
    "stats = run_and_get_stats()"
   ]
  },
  {
   "cell_type": "code",
   "execution_count": 18,
   "metadata": {},
   "outputs": [
    {
     "name": "stdout",
     "output_type": "stream",
     "text": [
      "\u001b[36m+---------+--------+----------------+--------------------+\n",
      "|   Run   | Tokens | Message Length | Run Time (seconds) |\n",
      "+---------+--------+----------------+--------------------+\n",
      "|    1    |  617   |      3050      | 15.408635139465332 |\n",
      "|    2    |  577   |      2915      | 14.157102584838867 |\n",
      "|    3    |  572   |      2870      |  14.0344557762146  |\n",
      "|    4    |  597   |      3073      | 14.581034183502197 |\n",
      "|    5    |  710   |      3632      | 17.40005922317505  |\n",
      "|    6    |  591   |      2923      | 14.38428258895874  |\n",
      "|    7    |  631   |      3115      | 15.41484022140503  |\n",
      "|    8    |  738   |      3763      | 18.071146488189697 |\n",
      "|    9    |  620   |      3148      | 15.073824405670166 |\n",
      "|   10    |  641   |      3309      | 15.644548177719116 |\n",
      "| Average | 629.4  |     3179.8     | 15.416992878913879 |\n",
      "+---------+--------+----------------+--------------------+\u001b[0m\n"
     ]
    }
   ],
   "source": [
    "from tabulate import tabulate\n",
    "from termcolor import colored\n",
    "\n",
    "total_tokens = 0\n",
    "total_run_time = 0\n",
    "total_message_length = 0\n",
    "table = []\n",
    "headers = [\"Run\", \"Tokens\", \"Message Length\", \"Run Time (seconds)\"]\n",
    "\n",
    "for stat in stats:\n",
    "    total_tokens += stat['tokens']\n",
    "    total_run_time += stat['run_time']\n",
    "    total_message_length += stat['message_length']\n",
    "    table.append([stat['run'], stat['tokens'], stat['message_length'], stat['run_time']])\n",
    "\n",
    "average_tokens = total_tokens / len(stats)\n",
    "average_run_time = total_run_time / len(stats)\n",
    "average_message_length = total_message_length / len(stats)\n",
    "\n",
    "table.append([\"Average\", average_tokens, average_message_length, average_run_time])\n",
    "\n",
    "print(colored(tabulate(table, headers, tablefmt=\"pretty\"), 'cyan'))"
   ]
  }
 ],
 "metadata": {
  "kernelspec": {
   "display_name": "aoai-faq",
   "language": "python",
   "name": "python3"
  },
  "language_info": {
   "codemirror_mode": {
    "name": "ipython",
    "version": 3
   },
   "file_extension": ".py",
   "mimetype": "text/x-python",
   "name": "python",
   "nbconvert_exporter": "python",
   "pygments_lexer": "ipython3",
   "version": "3.9.18"
  }
 },
 "nbformat": 4,
 "nbformat_minor": 2
}
